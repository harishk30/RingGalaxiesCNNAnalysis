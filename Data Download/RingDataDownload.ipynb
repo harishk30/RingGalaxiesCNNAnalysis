{
  "nbformat": 4,
  "nbformat_minor": 0,
  "metadata": {
    "colab": {
      "name": "RingDataDownload",
      "provenance": [],
      "collapsed_sections": [],
      "mount_file_id": "1o6tg5I0JK6mZV_XgcjWfaL4LLf_N_idF",
      "authorship_tag": "ABX9TyMRqP69b4GfkgQqinP3oWVs",
      "include_colab_link": true
    },
    "kernelspec": {
      "name": "python3",
      "display_name": "Python 3"
    },
    "language_info": {
      "name": "python"
    },
    "accelerator": "GPU"
  },
  "cells": [
    {
      "cell_type": "markdown",
      "metadata": {
        "id": "view-in-github",
        "colab_type": "text"
      },
      "source": [
        "<a href=\"https://colab.research.google.com/github/harishk30/RingGalaxiesCNNAnalysis/blob/main/DataDownload/RingDataDownload.ipynb\" target=\"_parent\"><img src=\"https://colab.research.google.com/assets/colab-badge.svg\" alt=\"Open In Colab\"/></a>"
      ]
    },
    {
      "cell_type": "markdown",
      "metadata": {
        "id": "wuUTE0oCx4dM"
      },
      "source": [
        "Getting Data"
      ]
    },
    {
      "cell_type": "code",
      "metadata": {
        "id": "A8ohxEqmo6Dg"
      },
      "source": [
        "from astropy.table import Table\n",
        "data = Table.read('/Users/harishkrishnakumar/Downloads/zoo2MainSpecz.fits', format='fits')"
      ],
      "execution_count": null,
      "outputs": []
    },
    {
      "cell_type": "code",
      "metadata": {
        "id": "pttPYdemrCXC",
        "colab": {
          "base_uri": "https://localhost:8080/"
        },
        "outputId": "22085ae9-1bd4-4a29-9302-c37ea4bd8ad7"
      },
      "source": [
        "ring = []\n",
        "num = 0\n",
        "for i in range(0, len(data)):\n",
        "  if (data['t08_odd_feature_a19_ring_debiased'][i] >= 0.9999):\n",
        "    if (data['t08_odd_feature_a19_ring_count'][i] > 1):\n",
        "      ring.append(1)\n",
        "      num += 1\n",
        "    else:\n",
        "      ring.append(0)\n",
        "  else:\n",
        "    ring.append(0)\n",
        "print(num)"
      ],
      "execution_count": null,
      "outputs": [
        {
          "output_type": "stream",
          "name": "stdout",
          "text": [
            "3657\n"
          ]
        }
      ]
    },
    {
      "cell_type": "code",
      "metadata": {
        "id": "hSsOTAKtpcax"
      },
      "source": [
        "data.add_column(ring, name = 'RING')"
      ],
      "execution_count": null,
      "outputs": []
    },
    {
      "cell_type": "code",
      "metadata": {
        "id": "v1k_mXSlucpJ"
      },
      "source": [
        "import requests \n",
        "def get_stamps(ra, dec, pixscale=0.2, layer='sdssco', size=256, out=None): # pylint: disable=W0613\n",
        "    url = f'http://legacysurvey.org/viewer-dev/jpeg-cutout/?ra={ra}&dec={dec}&pixscale={pixscale}&layer={layer}&size={size}'\n",
        "    content = requests.get(url).content\n",
        "    if out is not None:\n",
        "        if not out.lower().endswith('.jpg'):\n",
        "            out += '.jpg'\n",
        "        with open(out, 'wb') as f:\n",
        "            f.write(content)\n",
        "    return"
      ],
      "execution_count": null,
      "outputs": []
    },
    {
      "cell_type": "code",
      "metadata": {
        "id": "1euLwWz2vioR"
      },
      "source": [
        "import numpy as np\n",
        "r = 0\n",
        "n = 0\n",
        "indices, = np.where(data['RING'] == 1)\n",
        "pix_scales = np.linspace(0.35, 0.09, len(indices))\n",
        "for i, p in zip(indices, pix_scales):\n",
        "  get_stamps(data['ra'][i], data['dec'][i], pixscale = p, layer = 'ls-dr9', out = '/Users/harishkrishnakumar/Desktop/RING_GAL_DATA/RING/' + str(i) + '.jpg')"
      ],
      "execution_count": null,
      "outputs": []
    }
  ]
}