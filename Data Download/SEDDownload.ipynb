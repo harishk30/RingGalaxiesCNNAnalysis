{
  "cells": [
    {
      "cell_type": "markdown",
      "metadata": {
        "id": "view-in-github",
        "colab_type": "text"
      },
      "source": [
        "<a href=\"https://colab.research.google.com/github/harishk30/RingGalaxiesCNNAnalysis/blob/main/DataDownload/SEDDownload.ipynb\" target=\"_parent\"><img src=\"https://colab.research.google.com/assets/colab-badge.svg\" alt=\"Open In Colab\"/></a>"
      ]
    },
    {
      "cell_type": "code",
      "execution_count": null,
      "metadata": {
        "id": "L40jCevb8FAX"
      },
      "outputs": [],
      "source": [
        "from astropy import units as u\n",
        "from astropy.coordinates import SkyCoord\n",
        "import numpy as np"
      ]
    },
    {
      "cell_type": "code",
      "execution_count": null,
      "metadata": {
        "id": "ZNUeOSEx5s0p"
      },
      "outputs": [],
      "source": [
        "from astropy.table import Table\n",
        "data = Table.read('/content/drive/MyDrive/PS1DR1_BroadMorph_clean.csv', format='csv')"
      ]
    },
    {
      "cell_type": "code",
      "source": [
        "import os\n",
        "objectIds = []\n",
        "objectRas = []\n",
        "objectDecs = []\n",
        "objectIndices = []\n",
        "for subdir, dirs, files in os.walk('/content/drive/MyDrive/ringfoldnew'):\n",
        "    for file in files:\n",
        "      s = file.replace('.jpg', '')\n",
        "      objectIndices.append(s)\n",
        "      objectIds.append(data[int(s)]['objid'])\n",
        "      objectRas.append(data[int(s)]['ra'])\n",
        "      objectDecs.append(data[int(s)]['dec'])"
      ],
      "metadata": {
        "id": "qhOAIjDNYmJ2"
      },
      "execution_count": null,
      "outputs": []
    },
    {
      "cell_type": "code",
      "source": [
        "print(objectIndices)"
      ],
      "metadata": {
        "id": "O7ddmu8GXyUs"
      },
      "execution_count": null,
      "outputs": []
    },
    {
      "cell_type": "code",
      "source": [
        "rings = []\n",
        "for i in range(len(data)):\n",
        "  rings.append(0)\n",
        "for i in range(len(objectIndices)):\n",
        "  rings[int(objectIndices[i])] = 1"
      ],
      "metadata": {
        "id": "q12TnF95XMo6"
      },
      "execution_count": null,
      "outputs": []
    },
    {
      "cell_type": "code",
      "source": [
        "data.add_column(rings, name = 'RING')"
      ],
      "metadata": {
        "id": "ItXp0dstWt_9"
      },
      "execution_count": null,
      "outputs": []
    },
    {
      "cell_type": "code",
      "source": [
        "import numpy as np\n",
        "def jansky_to_ab(jansky_fluxes, zero_point):\n",
        "    return -5./2. * np.log10(jansky_fluxes / zero_point)"
      ],
      "metadata": {
        "id": "KOwBClrPaj1R"
      },
      "execution_count": null,
      "outputs": []
    },
    {
      "cell_type": "code",
      "source": [
        "try:  # python 3\n",
        "    from io import BytesIO\n",
        "    from http.client import HTTPConnection\n",
        "except ImportError:  # python 2\n",
        "    from StringIO import StringIO as BytesIO\n",
        "    from httplib import HTTPConnection\n",
        "\n",
        "from astropy.table import Table\n",
        "\n",
        "\n",
        "def query_sed(pos, radius=5):\n",
        "    \"\"\" Query VizieR Photometry \n",
        "    The VizieR photometry tool extracts photometry points around a given position \n",
        "    or object name from photometry-enabled catalogs in VizieR.\n",
        "    \n",
        "    The VizieR photometry tool is developed by Anne-Camille Simon and Thomas Boch\n",
        "    .. url:: http://vizier.u-strasbg.fr/vizier/sed/doc/\n",
        "    \n",
        "    Parameters\n",
        "    ----------\n",
        "    pos: tuple or str\n",
        "        position tuple or object name\n",
        "    radius: float\n",
        "        position matching in arseconds.\n",
        "    \n",
        "    Returns\n",
        "    -------\n",
        "    table: astropy.Table\n",
        "        VO table returned by the Vizier service.\n",
        "        \n",
        "    >>> query_sed((1.286804, 67.840))\n",
        "    >>> query_sed(\"HD1\")\n",
        "    \"\"\"\n",
        "    try:\n",
        "        ra, dec = pos\n",
        "        target = \"{0:f},{1:f}\".format(ra, dec)\n",
        "    except:\n",
        "        target = pos\n",
        "    \n",
        "    url = \"http:///viz-bin/sed?-c={target:s}&-c.rs={radius:f}\"\n",
        "    host = \"vizier.u-strasbg.fr\"\n",
        "    port = 80\n",
        "    path = \"/viz-bin/sed?-c={target:s}&-c.rs={radius:f}\".format(target=target, radius=radius)\n",
        "    connection = HTTPConnection(host, port)\n",
        "    connection.request(\"GET\", path)\n",
        "    response = connection.getresponse()\n",
        "   \n",
        "    table = Table.read(BytesIO(response.read()), format=\"votable\")\n",
        "    return table"
      ],
      "metadata": {
        "id": "_iQUJ4tlbkpC"
      },
      "execution_count": null,
      "outputs": []
    },
    {
      "cell_type": "code",
      "source": [
        "galex_fuv_flux = []\n",
        "galex_fuv_error = []\n",
        "galex_nuv_flux = []\n",
        "galex_nuv_error = []\n",
        "pan_g = []\n",
        "pan_g_error = []\n",
        "pan_r = []\n",
        "pan_r_error = []\n",
        "pan_i = []\n",
        "pan_i_error = []\n",
        "pan_z = []\n",
        "pan_z_error = []\n",
        "pan_y = []\n",
        "pan_y_error = []\n",
        "wise_w1 = []\n",
        "wise_w1_error = []\n",
        "wise_w2 = []\n",
        "wise_w2_error = []\n",
        "wise_w3 = []\n",
        "wise_w3_error = []\n",
        "wise_w4 = []\n",
        "wise_w4_error = []\n",
        "current = 0\n",
        "for i in range(0, 10000):\n",
        "    try:\n",
        "        s = query_sed((t['RA'][i], t['DEC'][i]))\n",
        "        df = s.to_pandas()\n",
        "        pr = df.index.values[df['sed_filter'] == 'PAN-STARRS/PS1:r']\n",
        "        #Sort by magnitude if downloading Spirals\n",
        "        if(jansky_to_ab(df._get_value(pr[0], 'sed_flux'), 3631) > 16.5 and jansky_to_ab(df._get_value(pr[0], 'sed_flux'), 3631) < 18.5):\n",
        "          current += 1\n",
        "          print(current)\n",
        "          try:\n",
        "            fuv = df.index.values[df['sed_filter'] == 'GALEX:FUV']\n",
        "            galex_fuv_flux.append(df._get_value(fuv[0], 'sed_flux'))\n",
        "            galex_fuv_error.append(df._get_value(fuv[0], 'sed_eflux'))\n",
        "          except:\n",
        "            galex_fuv_flux.append(-1)\n",
        "            galex_fuv_error.append(-1)\n",
        "\n",
        "          try:\n",
        "            nuv = df.index.values[df['sed_filter'] == 'GALEX:NUV']\n",
        "            galex_nuv_flux.append(df._get_value(nuv[0], 'sed_flux'))\n",
        "            galex_nuv_error.append(df._get_value(nuv[0], 'sed_eflux'))\n",
        "          except:\n",
        "            galex_nuv_flux.append(-1)\n",
        "            galex_nuv_error.append(-1)\n",
        "\n",
        "\n",
        "          pg = df.index.values[df['sed_filter'] == 'PAN-STARRS/PS1:g']\n",
        "          pan_g.append(df._get_value(pg[0], 'sed_flux'))\n",
        "          pan_g_error.append(df._get_value(pg[0], 'sed_eflux'))\n",
        "\n",
        "          pr = df.index.values[df['sed_filter'] == 'PAN-STARRS/PS1:r']\n",
        "          pan_r.append(df._get_value(pr[0], 'sed_flux'))\n",
        "          pan_r_error.append(df._get_value(pr[0], 'sed_eflux'))\n",
        "\n",
        "          pi = df.index.values[df['sed_filter'] == 'PAN-STARRS/PS1:i']\n",
        "          pan_i.append(df._get_value(pi[0], 'sed_flux'))\n",
        "          pan_i_error.append(df._get_value(pi[0], 'sed_eflux'))\n",
        "\n",
        "          pz = df.index.values[df['sed_filter'] == 'PAN-STARRS/PS1:z']\n",
        "          pan_z.append(df._get_value(pz[0], 'sed_flux'))\n",
        "          pan_z_error.append(df._get_value(pz[0], 'sed_eflux'))\n",
        "\n",
        "          py = df.index.values[df['sed_filter'] == 'PAN-STARRS/PS1:y']\n",
        "          pan_y.append(df._get_value(py[0], 'sed_flux'))\n",
        "          pan_y_error.append(df._get_value(py[0], 'sed_eflux'))\n",
        "\n",
        "          try:\n",
        "            w1 = df.index.values[df['sed_filter'] == 'WISE:W1']\n",
        "            wise_w1.append(df._get_value(w1[0], 'sed_flux'))\n",
        "            wise_w1_error.append(df._get_value(w1[0], 'sed_eflux'))\n",
        "          except:\n",
        "            wise_w1.append(-1)\n",
        "            wise_w1_error.append(-1)\n",
        "\n",
        "          try:\n",
        "            w2 = df.index.values[df['sed_filter'] == 'WISE:W2']\n",
        "            wise_w2.append(df._get_value(w2[0], 'sed_flux'))\n",
        "            wise_w2_error.append(df._get_value(w2[0], 'sed_eflux'))\n",
        "          except:\n",
        "            wise_w2.append(-1)\n",
        "            wise_w2_error.append(-1)\n",
        "\n",
        "          try:\n",
        "            w3 = df.index.values[df['sed_filter'] == 'WISE:W3']\n",
        "            wise_w3.append(df._get_value(w3[0], 'sed_flux'))\n",
        "            wise_w3_error.append(df._get_value(w3[0], 'sed_eflux'))\n",
        "          except:\n",
        "            wise_w3.append(-1)\n",
        "            wise_w3_error.append(-1)\n",
        "\n",
        "          try:\n",
        "            w4 = df.index.values[df['sed_filter'] == 'WISE:W4']\n",
        "            wise_w4.append(df._get_value(w4[0], 'sed_flux'))\n",
        "            wise_w4_error.append(df._get_value(w4[0], 'sed_eflux'))\n",
        "          except:\n",
        "            wise_w4.append(-1)\n",
        "            wise_w4_error.append(-1)   \n",
        "          \n",
        "    except:\n",
        "        galex_fuv_flux.append(-1)\n",
        "        galex_fuv_error.append(-1)\n",
        "        galex_nuv_flux.append(-1)\n",
        "        galex_nuv_error.append(-1)\n",
        "        pan_g.append(-1)\n",
        "        pan_g_error.append(-1)\n",
        "        pan_r.append(-1)\n",
        "        pan_r_error.append(-1)\n",
        "        pan_i.append(-1)\n",
        "        pan_i_error.append(-1)\n",
        "        pan_z.append(-1)\n",
        "        pan_z_error.append(-1)\n",
        "        pan_y.append(-1)\n",
        "        pan_y_error.append(-1)\n",
        "        wise_w1.append(-1)\n",
        "        wise_w1_error.append(-1)\n",
        "        wise_w2.append(-1)\n",
        "        wise_w2_error.append(-1)\n",
        "        wise_w3.append(-1)\n",
        "        wise_w3_error.append(-1)\n",
        "        wise_w4.append(-1)\n",
        "        wise_w4_error.append(-1)\n",
        "    print(\"i = \" + str(i))"
      ],
      "metadata": {
        "id": "HDENmfT7km_y"
      },
      "execution_count": null,
      "outputs": []
    },
    {
      "cell_type": "code",
      "source": [
        "t = Table()\n",
        "t['galex_fuv_flux'] = galex_fuv_flux\n",
        "t['galex_fuv_error'] = galex_fuv_error\n",
        "t['galex_nuv_flux'] = galex_nuv_flux\n",
        "t['galex_nuv_error'] = galex_nuv_error\n",
        "t['pan_g'] = pan_g\n",
        "t['pan_g_error'] = pan_g_error\n",
        "t['pan_r'] = pan_r\n",
        "t['pan_r_error'] = pan_r_error\n",
        "t['pan_i'] = pan_i\n",
        "t['pan_i_error'] = pan_i_error\n",
        "t['pan_z'] = pan_z\n",
        "t['pan_z_error'] = pan_z_error\n",
        "t['pan_y'] = pan_y\n",
        "t['pan_y_error'] = pan_y_error\n",
        "t['wise_w1'] = wise_w1\n",
        "t['wise_w1_error'] = wise_w1_error\n",
        "t['wise_w2'] = wise_w2\n",
        "t['wise_w2_error'] = wise_w2_error\n",
        "t['wise_w3'] = wise_w3\n",
        "t['wise_w3_error'] = wise_w3_error\n",
        "t['wise_w4'] = wise_w4\n",
        "t['wise_w4_error'] = wise_w4_error"
      ],
      "metadata": {
        "id": "1EWzemIfo2nQ"
      },
      "execution_count": null,
      "outputs": []
    },
    {
      "cell_type": "code",
      "source": [
        "print(t)"
      ],
      "metadata": {
        "colab": {
          "base_uri": "https://localhost:8080/"
        },
        "id": "RYZmgG9NVc8W",
        "outputId": "9d10ad37-5085-4032-c54f-5f39c212df13"
      },
      "execution_count": null,
      "outputs": [
        {
          "output_type": "stream",
          "name": "stdout",
          "text": [
            "    galex_fuv_flux        galex_fuv_error     ...     wise_w4_error    \n",
            "---------------------- ---------------------- ... ---------------------\n",
            " 4.320000152802095e-05  6.799999937356915e-06 ... 0.0012000000569969416\n",
            "                  -1.0                   -1.0 ... 0.0014100000262260437\n",
            "                  -1.0                   -1.0 ...                   nan\n",
            "1.7500000467407517e-05  3.900000137946336e-06 ... 0.0008200000156648457\n",
            "                  -1.0                   -1.0 ...                   nan\n",
            "                  -1.0                   -1.0 ...                   nan\n",
            "                  -1.0                   -1.0 ...  0.001019999966956675\n",
            "                  -1.0                   -1.0 ...                   nan\n",
            "1.6199999663513154e-05 3.5000000480067683e-06 ...   0.00139999995008111\n",
            "                  -1.0                   -1.0 ...                   nan\n",
            "                   ...                    ... ...                   ...\n",
            "2.7399999453336932e-05  3.900000137946336e-06 ... 0.0010999999940395355\n",
            " 8.900000102585182e-05 6.8999997893115506e-06 ... 0.0010600000387057662\n",
            "                  -1.0                   -1.0 ...                   nan\n",
            "                  -1.0                   -1.0 ...                   nan\n",
            "                  -1.0                   -1.0 ...                   nan\n",
            "                  -1.0                   -1.0 ...                   nan\n",
            "                  -1.0                   -1.0 ...                  -1.0\n",
            "                  -1.0                   -1.0 ...                   nan\n",
            " 3.469999865046702e-05  4.800000169780105e-06 ...   0.00139999995008111\n",
            "                  -1.0                   -1.0 ...                   nan\n",
            " 4.189999799564248e-06 1.5900000107649248e-06 ...                   nan\n",
            "Length = 244 rows\n"
          ]
        }
      ]
    },
    {
      "cell_type": "code",
      "source": [
        "df = t.to_pandas()\n",
        "df.to_csv('/content/drive/MyDrive/fluxring.csv')"
      ],
      "metadata": {
        "id": "W5HdUpLiVki4"
      },
      "execution_count": null,
      "outputs": []
    }
  ],
  "metadata": {
    "colab": {
      "name": "SEDDownload",
      "provenance": [],
      "collapsed_sections": [],
      "mount_file_id": "186uIZnTMutiVmq3IWICFHSUKO40XR2Z8",
      "authorship_tag": "ABX9TyP9pEVMB94fFG7CXlG1PEMd",
      "include_colab_link": true
    },
    "kernelspec": {
      "display_name": "Python 3",
      "name": "python3"
    },
    "language_info": {
      "name": "python"
    }
  },
  "nbformat": 4,
  "nbformat_minor": 0
}