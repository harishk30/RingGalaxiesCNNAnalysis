{
  "cells": [
    {
      "cell_type": "markdown",
      "metadata": {
        "id": "view-in-github",
        "colab_type": "text"
      },
      "source": [
        "<a href=\"https://colab.research.google.com/github/harishk30/RingGalaxiesCNNAnalysis/blob/main/DataDownload/PANSTARRSDownload.ipynb\" target=\"_parent\"><img src=\"https://colab.research.google.com/assets/colab-badge.svg\" alt=\"Open In Colab\"/></a>"
      ]
    },
    {
      "cell_type": "markdown",
      "metadata": {
        "id": "wuUTE0oCx4dM"
      },
      "source": [
        "Getting Data"
      ]
    },
    {
      "cell_type": "code",
      "source": [
        "import numpy"
      ],
      "metadata": {
        "id": "_3ls-rQZAki_"
      },
      "execution_count": null,
      "outputs": []
    },
    {
      "cell_type": "code",
      "execution_count": null,
      "metadata": {
        "id": "A8ohxEqmo6Dg"
      },
      "outputs": [],
      "source": [
        "from astropy.table import Table\n",
        "data = Table.read('/Users/harishkrishnakumar/Downloads/PS1DR1_BroadMorph_clean.csv', format='csv')"
      ]
    },
    {
      "cell_type": "code",
      "source": [
        "from astropy.table import Table\n",
        "sdss = Table.read('/Users/harishkrishnakumar/Downloads/zoo2MainSpecz.fits', format='fits')"
      ],
      "metadata": {
        "id": "U_sI8fp63x28"
      },
      "execution_count": null,
      "outputs": []
    },
    {
      "cell_type": "code",
      "source": [
        "print(data)"
      ],
      "metadata": {
        "colab": {
          "base_uri": "https://localhost:8080/"
        },
        "id": "0y_Hvl2B7s5d",
        "outputId": "1d245346-0b7b-4d36-9f34-857b0fcc6bc8"
      },
      "execution_count": null,
      "outputs": [
        {
          "output_type": "stream",
          "name": "stdout",
          "text": [
            "      objid                ra                 dec         ... spiral elliptical\n",
            "------------------ ------------------ ------------------- ... ------ ----------\n",
            "100000008974417878        0.897422822  -6.660412072000001 ...      0          1\n",
            "100000025533028842         2.55331089  -6.659625473999999 ...      0          1\n",
            "100000035160888587         3.51608389         -6.65984348 ...      0          1\n",
            "100000110209698157        11.02095428        -6.660200314 ...      0          1\n",
            "100000141300697133       14.130070236        -6.661057874 ...      1          0\n",
            "100000150388164098       15.038816042        -6.663593858 ...      0          1\n",
            "100000153099620094       15.310151804         -6.66697597 ...      1          0\n",
            "100000158896886226       15.889698436        -6.661821428 ...      1          0\n",
            "100000168765741061       16.876570238        -6.666110874 ...      1          0\n",
            "100000182802650027       18.280268346        -6.666970616 ...      0          1\n",
            "               ...                ...                 ... ...    ...        ...\n",
            " 99993446213394503 344.62133641199995         -6.67158749 ...      1          0\n",
            " 99993448420767249       344.84209098  -6.669291572000001 ...      1          0\n",
            " 99993460823826107      346.082373248        -6.670245632 ...      1          0\n",
            " 99993462421010619 346.24209691199997 -6.6748110999999986 ...      0          1\n",
            " 99993464260317774       346.42601956        -6.668847798 ...      0          1\n",
            " 99993494228274308       349.42286328        -6.671746626 ...      0          1\n",
            " 99993536257939586 353.62579634599996         -6.66733355 ...      1          0\n",
            " 99993545289197996      354.528897724        -6.668671372 ...      0          1\n",
            " 99993550876405420      355.087636658        -6.670827706 ...      0          1\n",
            " 99993556325520800      355.632562666        -6.674667516 ...      1          0\n",
            " 99993567261520013      356.726142166  -6.675325593999999 ...      0          1\n",
            "Length = 1685349 rows\n"
          ]
        }
      ]
    },
    {
      "cell_type": "code",
      "source": [
        "sdssValue = []\n",
        "num = 0\n",
        "import math\n",
        "for i in range(0, len(data)):\n",
        "  sdssBool = False\n",
        "  if(data['ra'][i] >= 120 and data['ra'][i] <= 270):\n",
        "    if(data['dec'][i] >= 0 and data['dec'][i] <= 70):\n",
        "      sdssBool = True\n",
        "  if(sdssBool == True):\n",
        "    num += 1\n",
        "    sdssValue.append(1)\n",
        "  else:\n",
        "    sdssValue.append(0)\n",
        "  print(i)\n",
        "print(num)"
      ],
      "metadata": {
        "id": "0Efb43Yz6cGS"
      },
      "execution_count": null,
      "outputs": []
    },
    {
      "cell_type": "code",
      "execution_count": null,
      "metadata": {
        "id": "x6I0uOs-fTnd"
      },
      "outputs": [],
      "source": [
        "data.add_column(sdssValue, name = 'SDSS')"
      ]
    },
    {
      "cell_type": "code",
      "source": [
        "print(data)"
      ],
      "metadata": {
        "id": "GD_zIgSR2Cx9",
        "colab": {
          "base_uri": "https://localhost:8080/"
        },
        "outputId": "76b2b9c6-d1c1-4838-e6f1-46c589725900"
      },
      "execution_count": null,
      "outputs": [
        {
          "output_type": "stream",
          "name": "stdout",
          "text": [
            "      objid                ra                 dec         ... elliptical SDSS\n",
            "------------------ ------------------ ------------------- ... ---------- ----\n",
            "100000008974417878        0.897422822  -6.660412072000001 ...          1    0\n",
            "100000025533028842         2.55331089  -6.659625473999999 ...          1    0\n",
            "100000035160888587         3.51608389         -6.65984348 ...          1    0\n",
            "100000110209698157        11.02095428        -6.660200314 ...          1    0\n",
            "100000141300697133       14.130070236        -6.661057874 ...          0    0\n",
            "100000150388164098       15.038816042        -6.663593858 ...          1    0\n",
            "100000153099620094       15.310151804         -6.66697597 ...          0    0\n",
            "100000158896886226       15.889698436        -6.661821428 ...          0    0\n",
            "100000168765741061       16.876570238        -6.666110874 ...          0    0\n",
            "100000182802650027       18.280268346        -6.666970616 ...          1    0\n",
            "               ...                ...                 ... ...        ...  ...\n",
            " 99993446213394503 344.62133641199995         -6.67158749 ...          0    0\n",
            " 99993448420767249       344.84209098  -6.669291572000001 ...          0    0\n",
            " 99993460823826107      346.082373248        -6.670245632 ...          0    0\n",
            " 99993462421010619 346.24209691199997 -6.6748110999999986 ...          1    0\n",
            " 99993464260317774       346.42601956        -6.668847798 ...          1    0\n",
            " 99993494228274308       349.42286328        -6.671746626 ...          1    0\n",
            " 99993536257939586 353.62579634599996         -6.66733355 ...          0    0\n",
            " 99993545289197996      354.528897724        -6.668671372 ...          1    0\n",
            " 99993550876405420      355.087636658        -6.670827706 ...          1    0\n",
            " 99993556325520800      355.632562666        -6.674667516 ...          0    0\n",
            " 99993567261520013      356.726142166  -6.675325593999999 ...          1    0\n",
            "Length = 1685349 rows\n"
          ]
        }
      ]
    },
    {
      "cell_type": "code",
      "source": [
        "import requests \n",
        "def get_stamps(ra, dec, out, sdss, pixscale=0.2, layer='ls-dr9', size=256): # pylint: disable=W0613\n",
        "    if(sdss == 0):\n",
        "      print(out)\n",
        "      out = '/Users/harishkrishnakumar/Desktop/DATA_PS1/' + str(out) + '.jpg'\n",
        "      url = f'http://legacysurvey.org/viewer-dev/jpeg-cutout/?ra={ra}&dec={dec}&pixscale={pixscale}&layer={layer}&size={size}'\n",
        "      content = requests.get(url).content\n",
        "      print(out)\n",
        "      with open(out, 'wb') as f:\n",
        "          f.write(content)\n",
        "    return"
      ],
      "metadata": {
        "id": "4-Fn2HgHLSjW"
      },
      "execution_count": null,
      "outputs": []
    },
    {
      "cell_type": "code",
      "source": [
        "from concurrent.futures import ThreadPoolExecutor\n",
        "with ThreadPoolExecutor(max_workers=128) as executor:\n",
        "    executor.map(get_stamps, data['ra'], data['dec'], range(0, len(data)), data['SDSS']) #urls=[list of url]"
      ],
      "metadata": {
        "id": "AJSJXYpiwqy1"
      },
      "execution_count": null,
      "outputs": []
    }
  ],
  "metadata": {
    "accelerator": "GPU",
    "colab": {
      "collapsed_sections": [],
      "name": "PANSTARRS",
      "provenance": [],
      "machine_shape": "hm",
      "background_execution": "on",
      "mount_file_id": "1wjDQVBhCdgb6J2RkvSnTSm0xWsv5qtHk",
      "authorship_tag": "ABX9TyMd9gGtQ35hKT5oMZ5Q5hL4",
      "include_colab_link": true
    },
    "kernelspec": {
      "display_name": "Python 3",
      "name": "python3"
    },
    "language_info": {
      "name": "python"
    }
  },
  "nbformat": 4,
  "nbformat_minor": 0
}