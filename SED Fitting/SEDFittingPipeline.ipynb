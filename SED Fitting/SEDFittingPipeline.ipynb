{
  "nbformat": 4,
  "nbformat_minor": 0,
  "metadata": {
    "colab": {
      "name": "SEDFittingPipeline",
      "provenance": [],
      "collapsed_sections": []
    },
    "kernelspec": {
      "name": "python3",
      "display_name": "Python 3"
    },
    "language_info": {
      "name": "python"
    }
  },
  "cells": [
    {
      "cell_type": "code",
      "source": [
        "from google.colab import drive\n",
        "drive.mount('/content/drive')"
      ],
      "metadata": {
        "colab": {
          "base_uri": "https://localhost:8080/"
        },
        "id": "tLOm3zDoX-kY",
        "outputId": "f637a852-81a8-4d07-fb02-ab3fbadd1ec8"
      },
      "execution_count": null,
      "outputs": [
        {
          "output_type": "stream",
          "name": "stdout",
          "text": [
            "Mounted at /content/drive\n"
          ]
        }
      ]
    },
    {
      "cell_type": "code",
      "source": [
        "from astropy.table import Table\n",
        "data = Table.read('/content/drive/MyDrive/fluxspiral.csv')"
      ],
      "metadata": {
        "id": "-C-3UF0NRUwE"
      },
      "execution_count": null,
      "outputs": []
    },
    {
      "cell_type": "code",
      "metadata": {
        "id": "5-caZ8n0DYsN",
        "colab": {
          "base_uri": "https://localhost:8080/"
        },
        "outputId": "0280482a-455c-45d4-d7fe-1b6c6d1f66e3"
      },
      "source": [
        "# Import code from BagPipes documentation\n",
        "\n",
        "# Install Bagpipes and python dependencies\n",
        "!pip install bagpipes\n",
        "\n",
        "# Install Dense Basis code\n",
        "!git clone https://github.com/kartheikiyer/dense_basis\n",
        "!cp -r dense_basis/dense_basis /usr/local/lib/python3.7/dist-packages/\n",
        "!pip install george schwimmbad hickle\n",
        "\n",
        "# Install MultiNest\n",
        "!git clone https://www.github.com/johannesbuchner/multinest.git\n",
        "!cd multinest/build && cmake .. && make && sudo make install\n",
        "\n",
        "# Install PyMultiNest (with hacky solution to path issues)\n",
        "!git clone https://www.github.com/ACCarnall/PyMultiNest\n",
        "!cp -r PyMultiNest/pymultinest /usr/local/lib/python3.7/dist-packages/\n",
        "\n",
        "# Install latex for plots\n",
        "!sudo apt-get install texlive-latex-recommended \n",
        "!sudo apt-get install dvipng texlive-latex-extra texlive-fonts-recommended  \n",
        "!wget http://mirrors.ctan.org/macros/latex/contrib/type1cm.zip \n",
        "!unzip type1cm.zip -d /tmp/type1cm \n",
        "!cd /tmp/type1cm/type1cm/ && sudo latex type1cm.ins\n",
        "!sudo mkdir /usr/share/texmf/tex/latex/type1cm \n",
        "!sudo cp /tmp/type1cm/type1cm/type1cm.sty /usr/share/texmf/tex/latex/type1cm \n",
        "!sudo texhash\n",
        "!apt install cm-super\n",
        "\n",
        "# Get the filter curves needed for the examples\n",
        "!git clone https://github.com/ACCarnall/bagpipes\n",
        "!mv bagpipes/examples/filters .\n",
        "!rm -r bagpipes\n",
        "\n",
        "# Adjust the output height to avoid a huge wall of installation text\n",
        "from IPython import display\n",
        "display.Javascript(\"google.colab.output.setIframeHeight('100px');\")"
      ],
      "execution_count": null,
      "outputs": [
        {
          "output_type": "stream",
          "name": "stdout",
          "text": [
            "Collecting bagpipes\n"
          ]
        }
      ]
    },
    {
      "cell_type": "code",
      "source": [
        "!unzip filters.zip"
      ],
      "metadata": {
        "id": "pofEmUh6cy65"
      },
      "execution_count": null,
      "outputs": []
    },
    {
      "cell_type": "code",
      "metadata": {
        "id": "C8ElMYK9G-eF"
      },
      "source": [
        "# Import necessary python modules\n",
        "\n",
        "import numpy as np\n",
        "import bagpipes as pipes\n",
        "import os"
      ],
      "execution_count": null,
      "outputs": []
    },
    {
      "cell_type": "code",
      "source": [
        "def fit(i):\n",
        "  print(\"fitting index\" + str(i))\n",
        "  #If empty append -1\n",
        "  if(i == 6 or i == 26 or i == 301 or i == 340 or i == 373):\n",
        "    return [-1, -1, -1]\n",
        "  if(i != 6 or i != 26 or i != 301 or i != 340 or i != 373):\n",
        "    #If flux exists, append each flux to variable\n",
        "    galex_fuv_flux = data[i]['galex_fuv_flux']\n",
        "    galex_nuv_flux = data[i]['galex_nuv_flux']\n",
        "    pan_g = data[i]['pan_g']\n",
        "    pan_r = data[i]['pan_r']\n",
        "    pan_i = data[i]['pan_i']\n",
        "    pan_z = data[i]['pan_z']\n",
        "    pan_y = data[i]['pan_y']\n",
        "    wise_w1 = data[i]['wise_w1']\n",
        "    wise_w2 = data[i]['wise_w2']\n",
        "    wise_w3 = data[i]['wise_w3']\n",
        "    wise_w4 = data[i]['wise_w4']\n",
        "    galex_fuv_error = data[i]['galex_fuv_error']\n",
        "    galex_nuv_error = data[i]['galex_nuv_error']\n",
        "    pan_g_error = data[i]['pan_g_error']\n",
        "    pan_r_error = data[i]['pan_r_error']\n",
        "    pan_i_error = data[i]['pan_i_error']\n",
        "    pan_z_error = data[i]['pan_z_error']\n",
        "    pan_y_error = data[i]['pan_y_error']\n",
        "    wise_w1_error = data[i]['wise_w1_error']\n",
        "    wise_w2_error = data[i]['wise_w2_error']\n",
        "    wise_w3_error = data[i]['wise_w3_error']\n",
        "    wise_w4_error = data[i]['wise_w4_error']\n",
        "    filters = []\n",
        "    filters_data = []\n",
        "    filters_error_data = []\n",
        "    #Check if flux & flux errors exist, if not do not consider it\n",
        "    if(ma.is_masked(galex_fuv_flux) == False and ma.is_masked(galex_fuv_error) == False and galex_fuv_error > 0):\n",
        "      if(galex_fuv_flux > 0):\n",
        "        filters.append(\"galex_FUV\")\n",
        "        filters_data.append(galex_fuv_flux)\n",
        "        filters_error_data.append(galex_fuv_error)\n",
        "    if(ma.is_masked(galex_nuv_flux) == False and ma.is_masked(galex_nuv_error) == False and galex_nuv_error > 0):\n",
        "      if(galex_nuv_flux > 0):\n",
        "        filters.append(\"galex_NUV\")\n",
        "        filters_data.append(galex_nuv_flux)\n",
        "        filters_error_data.append(galex_nuv_error)\n",
        "    if(ma.is_masked(pan_g) == False and ma.is_masked(pan_g_error) == False and pan_g_error > 0):\n",
        "      if(pan_g > 0):\n",
        "        filters.append(\"ps1_g\")\n",
        "        filters_data.append(pan_g)\n",
        "        filters_error_data.append(pan_g_error)\n",
        "    if(ma.is_masked(pan_r) == False and ma.is_masked(pan_r_error) == False and pan_r_error > 0):\n",
        "      if(pan_r > 0):\n",
        "        filters.append(\"ps1_r\")\n",
        "        filters_data.append(pan_r)\n",
        "        filters_error_data.append(pan_r_error)\n",
        "    if(ma.is_masked(pan_i) == False and ma.is_masked(pan_i_error) == False and pan_i_error > 0):\n",
        "      if(pan_i > 0):\n",
        "        filters.append(\"ps1_i\")\n",
        "        filters_data.append(pan_i)\n",
        "        filters_error_data.append(pan_i_error)\n",
        "    if(ma.is_masked(pan_z) == False and ma.is_masked(pan_z_error) == False and pan_z_error > 0):\n",
        "      if(pan_z > 0):\n",
        "        filters.append(\"ps1_z\")\n",
        "        filters_data.append(pan_z)\n",
        "        filters_error_data.append(pan_z_error)\n",
        "    if(ma.is_masked(pan_y) == False and ma.is_masked(pan_y_error) == False and pan_y_error > 0):\n",
        "      if(pan_y > 0):\n",
        "        filters.append(\"ps1_y\")\n",
        "        filters_data.append(pan_y)\n",
        "        filters_error_data.append(pan_y_error)\n",
        "    if(ma.is_masked(wise_w1) == False and ma.is_masked(wise_w1_error) == False and wise_w1_error > 0):\n",
        "      if(wise_w1 > 0):\n",
        "        filters.append(\"wise_w1\")\n",
        "        filters_data.append(wise_w1)\n",
        "        filters_error_data.append(wise_w1_error)\n",
        "    if(ma.is_masked(wise_w2) == False and ma.is_masked(wise_w2_error) == False and wise_w2_error > 0):\n",
        "      if(wise_w2 > 0):\n",
        "        filters.append(\"wise_w2\")\n",
        "        filters_data.append(wise_w2)\n",
        "        filters_error_data.append(wise_w2_error)\n",
        "    if(ma.is_masked(wise_w3) == False and ma.is_masked(wise_w3_error) == False and wise_w3_error > 0):\n",
        "      if(wise_w3 > 0):\n",
        "        filters.append(\"wise_w3\")\n",
        "        filters_data.append(wise_w3)\n",
        "        filters_error_data.append(wise_w3_error)\n",
        "    if(ma.is_masked(wise_w4) == False and ma.is_masked(wise_w4_error) == False and wise_w4_error > 0):\n",
        "      if(wise_w4 > 0):\n",
        "        filters.append(\"wise_w4\")\n",
        "        filters_data.append(wise_w4)\n",
        "        filters_error_data.append(wise_w4_error)\n",
        "    #Create a list of filters, their errrs and filter transmition curves, and convert to microjanskys\n",
        "    filter_list = [\"filters/fnew/\" + f for f in filters]\n",
        "    fluxes = 1000000 * np.array(filters_data) #microJanskys\n",
        "    fluxerrs = 1000000 * np.array(filters_error_data) #microJanskys\n",
        "    def load_data(ID):\n",
        "      return np.c_[fluxes, fluxerrs]\n",
        "    name = \"index \" + str(i)\n",
        "    #Load filter information into galaxy object\n",
        "    galaxy = pipes.galaxy(name, load_data, filt_list=filter_list, spectrum_exists=False)\n",
        "    #Parameters modifyed from Bagpipes documentation\n",
        "    dblplaw = {}                        \n",
        "    dblplaw[\"tau\"] = (0., 15.)                # Age of universe\n",
        "    dblplaw[\"alpha\"] = (0.01, 1000.)          # Vary the falling power law slope from 0.01 to 1000.\n",
        "    dblplaw[\"beta\"] = (0.01, 1000.)           # Vary the rising power law slope from 0.01 to 1000.\n",
        "    dblplaw[\"alpha_prior\"] = \"log_10\"         # Impose a prior which is uniform in log_10 of the \n",
        "    dblplaw[\"beta_prior\"] = \"log_10\"          # parameter betweenthe limits which have been set \n",
        "                                              # above as in Carnall et al. (2017).\n",
        "    dblplaw[\"massformed\"] = (1., 15.)\n",
        "    dblplaw[\"metallicity\"] = (0., 2.5)\n",
        "    dust = {}                           \n",
        "    dust[\"type\"] = \"Calzetti\"\n",
        "    dust[\"Av\"] = (0., 2.)\n",
        "    nebular = {}\n",
        "    nebular[\"logU\"] = -3.\n",
        "    fit_info = {}                            # The fit instructions dictionary\n",
        "    fit_info[\"redshift\"] = (0., 2.)         # Vary observed redshift from 0 to 2\n",
        "    fit_info[\"dblplaw\"] = dblplaw \n",
        "    fit_info[\"dust\"] = dust\n",
        "    fit_info[\"nebular\"] = nebular\n",
        "    #Fit model with created parameters to galaxy\n",
        "    fit = pipes.fit(galaxy, fit_info, run=\"dblplaw_sfh\")\n",
        "    fit.fit(verbose=False)\n",
        "    #Obtain the mass, SSFR and age and return it as an array\n",
        "    mass = np.percentile(fit.posterior.samples[\"stellar_mass\"], (16, 50, 84))\n",
        "    ssfr = np.percentile(fit.posterior.samples[\"ssfr\"], (16, 50, 84))\n",
        "    age = np.percentile(fit.posterior.samples[\"mass_weighted_age\"], (16, 50, 84))\n",
        "    return [mass[0], ssfr[0], age[0]]\n"
      ],
      "metadata": {
        "id": "DxGptGwzbhY6"
      },
      "execution_count": null,
      "outputs": []
    },
    {
      "cell_type": "code",
      "source": [
        "stellar_mass = []\n",
        "ssfr = []\n",
        "mass_weighted_age = []\n",
        "except_count = 0\n",
        "#Iterate through entirety of data\n",
        "for i in range(len(data)):\n",
        "  print(\"EXCEPTION COUNT\" + str(except_count))\n",
        "  try:\n",
        "    x = fit(i)\n",
        "    stellar_mass.append(x[0])\n",
        "    ssfr.append(x[1])\n",
        "    mass_weighted_age.append(x[2])\n",
        "    print(x)\n",
        "  #If exception results, append -1\n",
        "  except:\n",
        "    x = [-1, -1, -1]\n",
        "    stellar_mass.append(x[0])\n",
        "    ssfr.append(x[1])\n",
        "    mass_weighted_age.append(x[2])\n",
        "    except_count += 1\n",
        "    print(x)\n",
        "print(stellar_mass)\n",
        "print(ssfr)\n",
        "print(mass_weighted_age)\n",
        "#Add SSFR, Mass and Age to initial datatable\n",
        "data.add_column(stellar_mass, name = 'MASS')\n",
        "data.add_column(ssfr, name = 'SSFR')\n",
        "data.add_column(mass_weighted_age, name = 'AGE')\n",
        "#Export data to csv\n",
        "df = data.to_pandas()\n",
        "df.to_csv('/content/drive/MyDrive/spiral100.csv')"
      ],
      "metadata": {
        "colab": {
          "base_uri": "https://localhost:8080/"
        },
        "id": "zz0kbgYk0Wld",
        "outputId": "214f83b8-484d-4cf3-b16d-9732734e8189"
      },
      "execution_count": null,
      "outputs": [
        {
          "output_type": "stream",
          "name": "stdout",
          "text": [
            "EXCEPTION COUNT0\n",
            "fitting index0\n",
            "\n",
            "Bagpipes: fitting object index 0\n",
            "\n"
          ]
        }
      ]
    }
  ]
}
