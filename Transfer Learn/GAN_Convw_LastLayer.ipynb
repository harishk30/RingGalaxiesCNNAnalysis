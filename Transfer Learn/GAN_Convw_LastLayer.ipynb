{
  "cells": [
    {
      "cell_type": "markdown",
      "metadata": {
        "id": "view-in-github",
        "colab_type": "text"
      },
      "source": [
        "<a href=\"https://colab.research.google.com/github/harishk30/RingGalaxiesCNNAnalysis/blob/main/Transfer%20Learn/GAN_Convw_LastLayer.ipynb\" target=\"_parent\"><img src=\"https://colab.research.google.com/assets/colab-badge.svg\" alt=\"Open In Colab\"/></a>"
      ]
    },
    {
      "cell_type": "code",
      "execution_count": null,
      "metadata": {
        "id": "6AU1ET9Njs-u"
      },
      "outputs": [],
      "source": [
        "import matplotlib.pyplot as plt\n",
        "import numpy as np\n",
        "import os\n",
        "import pathlib\n",
        "import PIL\n",
        "import tensorflow as tf\n",
        "from tensorflow import keras\n",
        "from tensorflow.keras import layers\n",
        "from tensorflow.python.keras.layers import Dense, Flatten\n",
        "from tensorflow.keras.models import Sequential\n",
        "from tensorflow.keras.optimizers import Adam\n",
        "from tensorflow.keras.applications import ResNet50"
      ]
    },
    {
      "cell_type": "code",
      "execution_count": null,
      "metadata": {
        "id": "vNozu5L_f5Fo"
      },
      "outputs": [],
      "source": [
        "!unzip /content/drive/MyDrive/TRUE_TEST.zip -d /content/final_test"
      ]
    },
    {
      "cell_type": "code",
      "execution_count": null,
      "metadata": {
        "id": "CV2sOcw7kT8y"
      },
      "outputs": [],
      "source": [
        "!unzip /content/drive/MyDrive/RING_GAL_DATA_SORTED_5.zip -d /content/final_sort"
      ]
    },
    {
      "cell_type": "code",
      "execution_count": null,
      "metadata": {
        "id": "y57v4Dr4mryn"
      },
      "outputs": [],
      "source": [
        "model = tf.keras.models.load_model('/content/drive/MyDrive/RingNetSimInception')"
      ]
    },
    {
      "cell_type": "code",
      "execution_count": null,
      "metadata": {
        "id": "jBi-NR2cyAqJ"
      },
      "outputs": [],
      "source": [
        "model.pop()\n",
        "model.pop()"
      ]
    },
    {
      "cell_type": "code",
      "execution_count": null,
      "metadata": {
        "id": "RMC2ats8xcGI"
      },
      "outputs": [],
      "source": [
        "model.summary()"
      ]
    },
    {
      "cell_type": "code",
      "execution_count": null,
      "metadata": {
        "id": "ElvN1Q4Bxpfe"
      },
      "outputs": [],
      "source": [
        "model.add(Dense(512, activation = 'relu'))\n",
        "model.add(Dense(1, activation = 'sigmoid'))"
      ]
    },
    {
      "cell_type": "code",
      "execution_count": null,
      "metadata": {
        "id": "YWEFcTDpyKs4"
      },
      "outputs": [],
      "source": [
        "model.layers[0].trainable = False"
      ]
    },
    {
      "cell_type": "code",
      "execution_count": null,
      "metadata": {
        "id": "w3OSCPE4Ut4e"
      },
      "outputs": [],
      "source": [
        "model.summary()"
      ]
    },
    {
      "cell_type": "code",
      "execution_count": null,
      "metadata": {
        "id": "4limEB6MvlTL"
      },
      "outputs": [],
      "source": [
        "pip install split-folders tqdm"
      ]
    },
    {
      "cell_type": "code",
      "execution_count": null,
      "metadata": {
        "id": "JwRowO5XySf2"
      },
      "outputs": [],
      "source": [
        "import splitfolders\n",
        "splitfolders.ratio('/content/final_sort/RING_GAL_DATA_SORTED_4', output=\"output\", seed=1337, ratio=(0.9, 0.1)) "
      ]
    },
    {
      "cell_type": "code",
      "execution_count": null,
      "metadata": {
        "id": "HR0iXmRAyfrE"
      },
      "outputs": [],
      "source": [
        "basetrain_dir = '/content/output/train/'\n",
        "training_dir = pathlib.Path(basetrain_dir)\n",
        "baseval_dir = '/content/output/val/'\n",
        "validation_dir = pathlib.Path(baseval_dir)\n",
        "basetest_dir = '/content/drive/MyDrive/test/'\n",
        "test_dir = pathlib.Path(basetest_dir)"
      ]
    },
    {
      "cell_type": "code",
      "execution_count": null,
      "metadata": {
        "id": "QRMpzhcZym3-"
      },
      "outputs": [],
      "source": [
        "batch_size = 32\n",
        "img_height = 256\n",
        "img_width = 256"
      ]
    },
    {
      "cell_type": "code",
      "execution_count": null,
      "metadata": {
        "id": "VqyrAGnjwwtU"
      },
      "outputs": [],
      "source": [
        "import os\n",
        "from PIL import Image\n",
        "folder_path = r'/content/output/train'\n",
        "i = 0\n",
        "extensions = []\n",
        "for fldr in os.listdir(folder_path):\n",
        "    sub_folder_path = os.path.join(folder_path, fldr)\n",
        "    for filee in os.listdir(sub_folder_path):\n",
        "        try:\n",
        "          file_path = os.path.join(sub_folder_path, filee)\n",
        "          print('** Path: {}  **'.format(file_path), end=\"\\r\", flush=True)\n",
        "          im = Image.open(file_path)\n",
        "        except:\n",
        "          os.remove(file_path)\n",
        "          i += 1\n",
        "          print(i)"
      ]
    },
    {
      "cell_type": "code",
      "execution_count": null,
      "metadata": {
        "id": "ZaoTAzsHyqjl"
      },
      "outputs": [],
      "source": [
        "from keras.preprocessing.image import ImageDataGenerator\n",
        "data_aug = ImageDataGenerator(rescale=1./255, horizontal_flip=True, width_shift_range = 0.1, height_shift_range = 0.1, \tshear_range=1.2, zoom_range=0.25, rotation_range=360)"
      ]
    },
    {
      "cell_type": "code",
      "execution_count": null,
      "metadata": {
        "id": "KJ7Sisc4y3LP"
      },
      "outputs": [],
      "source": [
        "test_gen = ImageDataGenerator(rescale=1./255)"
      ]
    },
    {
      "cell_type": "code",
      "execution_count": null,
      "metadata": {
        "id": "vOmvjMMOy4km"
      },
      "outputs": [],
      "source": [
        "train_ds = data_aug.flow_from_directory(\n",
        "\ttraining_dir,  \n",
        "\ttarget_size=(img_height, img_width),  \n",
        "\tbatch_size = batch_size,\n",
        "\tclass_mode='binary')"
      ]
    },
    {
      "cell_type": "code",
      "execution_count": null,
      "metadata": {
        "id": "jLa219bxy7IV"
      },
      "outputs": [],
      "source": [
        "validation_ds = test_gen.flow_from_directory(\n",
        "\tvalidation_dir,\n",
        "\ttarget_size=(img_height, img_width),\n",
        "\tbatch_size = batch_size,\n",
        "\tclass_mode='binary')"
      ]
    },
    {
      "cell_type": "code",
      "execution_count": null,
      "metadata": {
        "id": "IIjfX32Sy8sE"
      },
      "outputs": [],
      "source": [
        "confirmation_generator = test_gen.flow_from_directory(\n",
        "\ttest_dir,\n",
        "\ttarget_size = (img_height, img_width),\n",
        "\tbatch_size = batch_size,\n",
        "\tclass_mode=None,\n",
        "\tshuffle=False)"
      ]
    },
    {
      "cell_type": "code",
      "execution_count": null,
      "metadata": {
        "id": "rmVBLk28ec0b"
      },
      "outputs": [],
      "source": [
        "#differential learning rate\n",
        "optimizers_and_layers = [(Adam(learning_rate = 0.00001), model.layers[0]), (Adam(learning_rate = 0.001), model.layers[1:])]"
      ]
    },
    {
      "cell_type": "code",
      "execution_count": null,
      "metadata": {
        "id": "TZavxQmEe7cn"
      },
      "outputs": [],
      "source": [
        "pip install tensorflow_addons"
      ]
    },
    {
      "cell_type": "code",
      "execution_count": null,
      "metadata": {
        "id": "K5KJVwO9zBk0"
      },
      "outputs": [],
      "source": [
        "import tensorflow_addons as tfa\n",
        "model.compile(optimizer = tfa.optimizers.MultiOptimizer(optimizers_and_layers), loss = 'binary_crossentropy', metrics = ['accuracy'])"
      ]
    },
    {
      "cell_type": "code",
      "execution_count": null,
      "metadata": {
        "id": "-a6LZy2WzDrM"
      },
      "outputs": [],
      "source": [
        "epochs = 1000\n",
        "callback = tf.keras.callbacks.EarlyStopping(monitor='val_loss', patience=5)\n",
        "history = model.fit(\n",
        "    train_ds,\n",
        "    validation_data = validation_ds,\n",
        "    epochs = epochs,\n",
        "    callbacks = [callback]\n",
        ")"
      ]
    },
    {
      "cell_type": "code",
      "execution_count": null,
      "metadata": {
        "id": "lxFlvIG3aTg6"
      },
      "outputs": [],
      "source": [
        "model.compile(optimizer = Adam(learning_rate = 0.0000001), loss = 'binary_crossentropy', metrics = ['accuracy'])"
      ]
    },
    {
      "cell_type": "code",
      "execution_count": null,
      "metadata": {
        "id": "jHsJ1NoIbUP4"
      },
      "outputs": [],
      "source": [
        "model.trainable = True"
      ]
    },
    {
      "cell_type": "code",
      "execution_count": null,
      "metadata": {
        "id": "V_S82oCmBECh"
      },
      "outputs": [],
      "source": [
        "fine_tune_epochs = 10\n",
        "total_epochs =  epochs + fine_tune_epochs\n",
        "history_fine = model.fit(train_ds,\n",
        "                         epochs=total_epochs,\n",
        "                         initial_epoch=history.epoch[-1],\n",
        "                         validation_data=validation_ds)"
      ]
    },
    {
      "cell_type": "code",
      "execution_count": null,
      "metadata": {
        "id": "hrInYhBOGfRL"
      },
      "outputs": [],
      "source": [
        "acc = history.history['accuracy']\n",
        "val_acc = history.history['val_accuracy']\n",
        "\n",
        "loss = history.history['loss']\n",
        "val_loss = history.history['val_loss']\n",
        "\n",
        "acc += history_fine.history['accuracy']\n",
        "val_acc += history_fine.history['val_accuracy']\n",
        "\n",
        "loss += history_fine.history['loss']\n",
        "val_loss += history_fine.history['val_loss']\n",
        "\n",
        "plt.figure(figsize=(8, 8))\n",
        "plt.subplot(2, 1, 1)\n",
        "plt.plot(acc, label='Training Accuracy')\n",
        "plt.plot(val_acc, label='Validation Accuracy')\n",
        "plt.ylim([0.8, 1])\n",
        "plt.plot([342-1,342-1],\n",
        "          plt.ylim(), label='Start Fine Tuning')\n",
        "plt.legend(loc='lower right')\n",
        "plt.title('Training and Validation Accuracy')\n",
        "\n",
        "plt.subplot(2, 1, 2)\n",
        "plt.plot(loss, label='Training Loss')\n",
        "plt.plot(val_loss, label='Validation Loss')\n",
        "plt.ylim([0, 1.0])\n",
        "plt.plot([342-1,342-1],\n",
        "         plt.ylim(), label='Start Fine Tuning')\n",
        "plt.legend(loc='upper right')\n",
        "plt.title('Training and Validation Loss')\n",
        "plt.xlabel('epoch')\n",
        "plt.show()"
      ]
    },
    {
      "cell_type": "code",
      "execution_count": null,
      "metadata": {
        "colab": {
          "background_save": true
        },
        "id": "fH4r9s3YSBHK"
      },
      "outputs": [],
      "source": [
        "def get_predictions(generator,model):\n",
        "\ttest_steps_per_epoch = np.math.ceil(generator.samples / generator.batch_size)\n",
        "\tpredictions = model.predict_generator(generator, steps=test_steps_per_epoch)\n",
        "\tpredictions = [i[0] for i in predictions]\n",
        "\tpredictions = np.array(predictions)\n",
        "\treturn predictions\n",
        "\n",
        "\n",
        "def prediction_report(predictions,generator,cutoff,chatter=False):\n",
        "\tpredicted_classes = np.copy(predictions)\n",
        "\tpredicted_classes[predicted_classes>cutoff] = 1.0\n",
        "\tpredicted_classes[predicted_classes<cutoff] = 0.0 \n",
        "\ttrue_classes = generator.classes\n",
        "\tN_ring = len(np.where(true_classes>0.5)[0])\n",
        "\tN_normal = len(np.where(true_classes<0.5)[0])\n",
        "\ttn, fp, fn, tp = confusion_matrix(true_classes,predicted_classes).ravel()\n",
        "\tmatrix = confusion_matrix(true_classes,predicted_classes)\n",
        "\tif chatter:\n",
        "\t\tprint('True Normal predictions: {} | ({} percent)'.format(tn,(tn * 100)/N_normal))\n",
        "\t\tprint('True Ring predictions: {} | ({} percent)'.format(tp,(tp * 100)/N_ring))\n",
        "\t\tprint('False Normal predictions (actually Ring): {} | ({} percent)'.format(fn,(fn * 100)/N_ring))\n",
        "\t\tprint('False Ring predictions (actually Normal): {} | ({} percent)'.format(fp,(fp * 100)/N_normal))\n",
        "\treturn(tn, fp, fn, tp)\n",
        "\n",
        "def MCC(theta):\n",
        "\ttn, fp, fn, tp = theta\n",
        "\tnumerator = (tp*tn) - (fp*fn)\n",
        "\tdenomenator = np.sqrt((tp+fp)*(tp+fn)*(tn+fp)*(tn+fn))\n",
        "\tMCC = numerator / denomenator\n",
        "\treturn MCC\n",
        "\n",
        "def AUC(predictions,generator):\n",
        "\tthresholds = np.linspace(0.0,1,20)\n",
        "\ttprs = []\n",
        "\tfprs = []\n",
        "\tfor i in thresholds:\n",
        "\t\ttn, fp, fn, tp = prediction_report(predictions,generator,cutoff=i,chatter=False)\n",
        "\t\tTPR = tp / (fn+tp)\n",
        "\t\tFPR = fp / (fp+tn)\n",
        "\t\ttprs.append(TPR)\n",
        "\t\tfprs.append(FPR)\n",
        "\ttprs = np.array(tprs)[::-1]\n",
        "\tfprs = np.array(fprs)[::-1]\n",
        "\tplt.plot(fprs,tprs)\n",
        "\tplt.plot([0,1],[0,1],'k')\n",
        "\tarea = np.trapz(tprs,x=fprs)\n",
        "\tprint(\"Area under the curve: {}\".format(area))\n",
        "\treturn area\n"
      ]
    },
    {
      "cell_type": "code",
      "execution_count": null,
      "metadata": {
        "id": "FzgxyGl6SKEE"
      },
      "outputs": [],
      "source": [
        "from sklearn.metrics import confusion_matrix\n",
        "predictions = get_predictions(confirmation_generator,model)\n",
        "theta = prediction_report(predictions,confirmation_generator,cutoff=0.5,chatter=True)\n",
        "mcc = MCC(theta)\n",
        "print('MCC: ',mcc)\n",
        "area_under_curve = AUC(predictions,confirmation_generator)\n",
        "#print(area_under_curve)"
      ]
    },
    {
      "cell_type": "code",
      "source": [
        "import tensorflow as tf\n",
        "import tensorflow_hub as hub\n",
        "\n",
        "m = tf.keras.Sequential([hub.KerasLayer(\"/content/drive/MyDrive/ConvBlockLastLayer\", trainable=True)])\n",
        "m.build([None, 256, 256, 3])\n",
        "m.summary()"
      ],
      "metadata": {
        "id": "HM_aF81JaqCv"
      },
      "execution_count": null,
      "outputs": []
    },
    {
      "cell_type": "code",
      "execution_count": null,
      "metadata": {
        "id": "4sjHikEQfNz-"
      },
      "outputs": [],
      "source": [
        "model.save(\"ConvBlockLastLayer\")"
      ]
    },
    {
      "cell_type": "code",
      "execution_count": null,
      "metadata": {
        "id": "NuTGNfVgiUCG"
      },
      "outputs": [],
      "source": [
        "model.evaluate(confirmation_generator)"
      ]
    },
    {
      "cell_type": "code",
      "execution_count": null,
      "metadata": {
        "id": "SC3RiTCARbsd"
      },
      "outputs": [],
      "source": [
        "from keras.utils.vis_utils import plot_model\n",
        "plot_model(model, to_file='model_plot.png', show_shapes=True, show_layer_names=True, expand_nested = True)"
      ]
    }
  ],
  "metadata": {
    "accelerator": "GPU",
    "colab": {
      "name": "GAN Convw/LastLayer",
      "provenance": [],
      "mount_file_id": "16-FQJ9W5yTz_4WVoG2XPhWL9graUFWMK",
      "authorship_tag": "ABX9TyMjyK/qRyQXLgBs9Fk0Eszd",
      "include_colab_link": true
    },
    "kernelspec": {
      "display_name": "Python 3",
      "name": "python3"
    },
    "language_info": {
      "name": "python"
    }
  },
  "nbformat": 4,
  "nbformat_minor": 0
}