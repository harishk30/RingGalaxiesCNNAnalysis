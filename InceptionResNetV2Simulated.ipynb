{
  "nbformat": 4,
  "nbformat_minor": 0,
  "metadata": {
    "colab": {
      "name": "InceptionResNetV2Simulated",
      "provenance": [],
      "collapsed_sections": [],
      "background_execution": "on",
      "mount_file_id": "1lzQ5m-QIhOh-hK9rC5T-3XEigUdWNTvE",
      "authorship_tag": "ABX9TyO6ACeWVisem4JxJkDw+b3r"
    },
    "kernelspec": {
      "name": "python3",
      "display_name": "Python 3"
    },
    "language_info": {
      "name": "python"
    },
    "accelerator": "GPU"
  },
  "cells": [
    {
      "cell_type": "code",
      "execution_count": null,
      "metadata": {
        "id": "8ITHQD8CEqwC"
      },
      "outputs": [],
      "source": [
        "from tensorflow.keras.applications import InceptionResNetV2"
      ]
    },
    {
      "cell_type": "code",
      "source": [
        "import matplotlib.pyplot as plt\n",
        "import numpy as np\n",
        "import os\n",
        "import pathlib\n",
        "import PIL\n",
        "import tensorflow as tf\n",
        "from tensorflow import keras\n",
        "from tensorflow.keras import layers\n",
        "from tensorflow.python.keras.layers import Dense, Flatten\n",
        "from tensorflow.keras.models import Sequential\n",
        "from tensorflow.keras.optimizers import Adam"
      ],
      "metadata": {
        "id": "gaRGoShFq6AQ"
      },
      "execution_count": null,
      "outputs": []
    },
    {
      "cell_type": "code",
      "source": [
        "pip install split-folders tqdm"
      ],
      "metadata": {
        "colab": {
          "base_uri": "https://localhost:8080/"
        },
        "id": "laj6APkBTHje",
        "outputId": "db61e4ed-44cb-45b7-9937-012a07e0f264"
      },
      "execution_count": null,
      "outputs": [
        {
          "output_type": "stream",
          "name": "stdout",
          "text": [
            "Collecting split-folders\n",
            "  Downloading split_folders-0.4.3-py3-none-any.whl (7.4 kB)\n",
            "Requirement already satisfied: tqdm in /usr/local/lib/python3.7/dist-packages (4.62.3)\n",
            "Installing collected packages: split-folders\n",
            "Successfully installed split-folders-0.4.3\n"
          ]
        }
      ]
    },
    {
      "cell_type": "code",
      "source": [
        "!unzip /content/drive/MyDrive/SimulatedData.zip -d /content/final_data"
      ],
      "metadata": {
        "id": "STi4IJ1YqSWY"
      },
      "execution_count": null,
      "outputs": []
    },
    {
      "cell_type": "code",
      "source": [
        "import splitfolders\n",
        "splitfolders.ratio('/content/final_data/SimulatedData', output=\"output\", seed=1337, ratio=(0.8, 0.1, 0.1)) "
      ],
      "metadata": {
        "id": "PdSbZM5uTFhg",
        "colab": {
          "base_uri": "https://localhost:8080/"
        },
        "outputId": "7ac59c3a-19bf-4667-be6b-0dabaa177ae2"
      },
      "execution_count": null,
      "outputs": [
        {
          "output_type": "stream",
          "name": "stderr",
          "text": [
            "Copying files: 100913 files [00:14, 6728.49 files/s]\n"
          ]
        }
      ]
    },
    {
      "cell_type": "code",
      "source": [
        "basetrain_dir = '/content/output/train/'\n",
        "training_dir = pathlib.Path(basetrain_dir)\n",
        "baseval_dir = '/content/output/val/'\n",
        "validation_dir = pathlib.Path(baseval_dir)\n",
        "basetest_dir = '/content/output/test/'\n",
        "test_dir = pathlib.Path(basetest_dir)"
      ],
      "metadata": {
        "id": "NoMAkg7qrXNs"
      },
      "execution_count": null,
      "outputs": []
    },
    {
      "cell_type": "code",
      "source": [
        "batch_size = 32\n",
        "img_height = 256\n",
        "img_width = 256"
      ],
      "metadata": {
        "id": "nwhKtnxmrwoS"
      },
      "execution_count": null,
      "outputs": []
    },
    {
      "cell_type": "code",
      "source": [
        "from keras.preprocessing.image import ImageDataGenerator\n",
        "data_aug = ImageDataGenerator(rescale=1./255, horizontal_flip=True, width_shift_range = 0.1, height_shift_range = 0.1, \tshear_range=1.2, zoom_range=0.25, rotation_range=360)"
      ],
      "metadata": {
        "id": "CiWO_UeJL0np"
      },
      "execution_count": null,
      "outputs": []
    },
    {
      "cell_type": "code",
      "source": [
        "test_gen = ImageDataGenerator(rescale=1./255)"
      ],
      "metadata": {
        "id": "u5mTQ-NQWF1M"
      },
      "execution_count": null,
      "outputs": []
    },
    {
      "cell_type": "code",
      "source": [
        "train_ds = data_aug.flow_from_directory(\n",
        "\ttraining_dir,  \n",
        "\ttarget_size=(img_height, img_width),  \n",
        "\tbatch_size = batch_size,\n",
        "\tclass_mode='binary')"
      ],
      "metadata": {
        "id": "m1ZVz_ksM0xn",
        "colab": {
          "base_uri": "https://localhost:8080/"
        },
        "outputId": "0e038b4d-c1b1-48d4-dba8-90c168cc3b71"
      },
      "execution_count": null,
      "outputs": [
        {
          "output_type": "stream",
          "name": "stdout",
          "text": [
            "Found 80730 images belonging to 2 classes.\n"
          ]
        }
      ]
    },
    {
      "cell_type": "code",
      "source": [
        "validation_ds = test_gen.flow_from_directory(\n",
        "\tvalidation_dir,\n",
        "\ttarget_size=(img_height, img_width),\n",
        "\tbatch_size = batch_size,\n",
        "\tclass_mode='binary')"
      ],
      "metadata": {
        "id": "ytmWFkh7sNFi",
        "colab": {
          "base_uri": "https://localhost:8080/"
        },
        "outputId": "55e7c706-8106-4840-d140-a40125ece368"
      },
      "execution_count": null,
      "outputs": [
        {
          "output_type": "stream",
          "name": "stdout",
          "text": [
            "Found 10090 images belonging to 2 classes.\n"
          ]
        }
      ]
    },
    {
      "cell_type": "code",
      "source": [
        "confirmation_generator = test_gen.flow_from_directory(\n",
        "  test_dir,\n",
        "\ttarget_size = (img_height, img_width),\n",
        "\tbatch_size = batch_size,\n",
        "\tclass_mode=None,\n",
        "\tshuffle=False)"
      ],
      "metadata": {
        "id": "I71DSwyAWPxH",
        "colab": {
          "base_uri": "https://localhost:8080/"
        },
        "outputId": "e466822c-20e6-4e25-9c46-d3c3d4bed522"
      },
      "execution_count": null,
      "outputs": [
        {
          "output_type": "stream",
          "name": "stdout",
          "text": [
            "Found 10093 images belonging to 2 classes.\n"
          ]
        }
      ]
    },
    {
      "cell_type": "markdown",
      "source": [
        "Model"
      ],
      "metadata": {
        "id": "LHZKP0ACstwC"
      }
    },
    {
      "cell_type": "code",
      "source": [
        "sim_model = Sequential()\n",
        "\n",
        "InceptionResNet_V2 = tf.keras.applications.InceptionResNetV2(include_top = False, \n",
        "                     weights = None,\n",
        "                     input_shape = (256, 256, 3),\n",
        "                     pooling = 'max',\n",
        "                     classes = 2)\n",
        "\n",
        "InceptionResNet_V2.trainable = True\n",
        "InceptionResNet_V2 = add_regularization(InceptionResNet_V2)\n",
        "\n",
        "sim_model.add(InceptionResNet_V2)\n",
        "sim_model.add(Flatten())\n",
        "sim_model.add(Dense(512, activation = 'relu'))\n",
        "sim_model.add(Dense(1, activation = 'sigmoid'))"
      ],
      "metadata": {
        "id": "q1GS1Zk0njSm"
      },
      "execution_count": null,
      "outputs": []
    },
    {
      "cell_type": "code",
      "source": [
        "import os\n",
        "import tempfile\n",
        "\n",
        "def add_regularization(model, regularizer=tf.keras.regularizers.l2(0.0001)):\n",
        "\n",
        "    if not isinstance(regularizer, tf.keras.regularizers.Regularizer):\n",
        "      print(\"Regularizer must be a subclass of tf.keras.regularizers.Regularizer\")\n",
        "      return model\n",
        "\n",
        "    for layer in model.layers:\n",
        "        for attr in ['kernel_regularizer']:\n",
        "            if hasattr(layer, attr):\n",
        "              setattr(layer, attr, regularizer)\n",
        "\n",
        "    # When we change the layers attributes, the change only happens in the model config file\n",
        "    model_json = model.to_json()\n",
        "\n",
        "    # Save the weights before reloading the model.\n",
        "    tmp_weights_path = os.path.join(tempfile.gettempdir(), 'tmp_weights.h5')\n",
        "    model.save_weights(tmp_weights_path)\n",
        "\n",
        "    # load the model from the config\n",
        "    model = tf.keras.models.model_from_json(model_json)\n",
        "    \n",
        "    # Reload the model weights\n",
        "    model.load_weights(tmp_weights_path, by_name=True)\n",
        "    return model"
      ],
      "metadata": {
        "id": "Ul1-rFuUytYj"
      },
      "execution_count": null,
      "outputs": []
    },
    {
      "cell_type": "code",
      "source": [
        "sim_model.summary()"
      ],
      "metadata": {
        "colab": {
          "base_uri": "https://localhost:8080/"
        },
        "id": "5yEd-IsCt4Om",
        "outputId": "69e8cdc8-c3ee-4878-e7bf-53781aab794a"
      },
      "execution_count": null,
      "outputs": [
        {
          "output_type": "stream",
          "name": "stdout",
          "text": [
            "Model: \"sequential_1\"\n",
            "_________________________________________________________________\n",
            " Layer (type)                Output Shape              Param #   \n",
            "=================================================================\n",
            " inception_resnet_v2 (Functi  (None, 1536)             54336736  \n",
            " onal)                                                           \n",
            "                                                                 \n",
            " module_wrapper (ModuleWrapp  (None, 1536)             0         \n",
            " er)                                                             \n",
            "                                                                 \n",
            " module_wrapper_1 (ModuleWra  (None, 512)              786944    \n",
            " pper)                                                           \n",
            "                                                                 \n",
            " module_wrapper_2 (ModuleWra  (None, 1)                513       \n",
            " pper)                                                           \n",
            "                                                                 \n",
            "=================================================================\n",
            "Total params: 55,124,193\n",
            "Trainable params: 55,063,649\n",
            "Non-trainable params: 60,544\n",
            "_________________________________________________________________\n"
          ]
        }
      ]
    },
    {
      "cell_type": "code",
      "source": [
        "sim_model.compile(optimizer = Adam(learning_rate = 0.0001), loss = 'binary_crossentropy', metrics = ['accuracy'])"
      ],
      "metadata": {
        "id": "S2XggNeMuAFn"
      },
      "execution_count": null,
      "outputs": []
    },
    {
      "cell_type": "code",
      "source": [
        "epochs = 11\n",
        "history = sim_model.fit(\n",
        "    train_ds,\n",
        "    validation_data = validation_ds,\n",
        "    epochs = epochs\n",
        ")"
      ],
      "metadata": {
        "id": "FJUMZn-YuOq1",
        "colab": {
          "base_uri": "https://localhost:8080/"
        },
        "outputId": "008adec9-210b-48a7-d52a-db607274d3e8"
      },
      "execution_count": null,
      "outputs": [
        {
          "output_type": "stream",
          "name": "stdout",
          "text": [
            "Epoch 1/11\n",
            "2523/2523 [==============================] - 1530s 594ms/step - loss: 3.5529 - accuracy: 0.9955 - val_loss: 1.5566 - val_accuracy: 0.9955\n",
            "Epoch 2/11\n",
            "2523/2523 [==============================] - 1505s 597ms/step - loss: 0.8180 - accuracy: 0.9987 - val_loss: 0.4056 - val_accuracy: 0.9978\n",
            "Epoch 3/11\n",
            "2523/2523 [==============================] - 1496s 593ms/step - loss: 0.2629 - accuracy: 0.9983 - val_loss: 0.1724 - val_accuracy: 0.9967\n",
            "Epoch 4/11\n",
            "2523/2523 [==============================] - 1495s 593ms/step - loss: 0.1220 - accuracy: 0.9992 - val_loss: 0.0852 - val_accuracy: 0.9999\n",
            "Epoch 5/11\n",
            "2523/2523 [==============================] - 1497s 593ms/step - loss: 0.0816 - accuracy: 0.9988 - val_loss: 0.0700 - val_accuracy: 0.9988\n",
            "Epoch 6/11\n",
            "2523/2523 [==============================] - 1501s 595ms/step - loss: 0.0609 - accuracy: 0.9993 - val_loss: 0.0544 - val_accuracy: 0.9991\n",
            "Epoch 7/11\n",
            "2523/2523 [==============================] - 1502s 595ms/step - loss: 0.0507 - accuracy: 0.9991 - val_loss: 0.0471 - val_accuracy: 0.9999\n",
            "Epoch 8/11\n",
            "2523/2523 [==============================] - 1497s 593ms/step - loss: 0.0429 - accuracy: 0.9996 - val_loss: 0.0361 - val_accuracy: 0.9996\n",
            "Epoch 9/11\n",
            "2523/2523 [==============================] - 1495s 592ms/step - loss: 0.0385 - accuracy: 0.9994 - val_loss: 0.0306 - val_accuracy: 1.0000\n",
            "Epoch 10/11\n",
            "2523/2523 [==============================] - 1497s 593ms/step - loss: 0.0362 - accuracy: 0.9992 - val_loss: 0.1272 - val_accuracy: 0.9555\n",
            "Epoch 11/11\n",
            "2523/2523 [==============================] - 1504s 596ms/step - loss: 0.0322 - accuracy: 0.9994 - val_loss: 0.0321 - val_accuracy: 0.9998\n"
          ]
        }
      ]
    },
    {
      "cell_type": "markdown",
      "source": [
        "Evaluation"
      ],
      "metadata": {
        "id": "fRMjiDLssc1q"
      }
    },
    {
      "cell_type": "code",
      "source": [
        "\n",
        "import matplotlib as mpl\n",
        "import matplotlib.pyplot as plt\n",
        "import numpy as np\n",
        "from pylab import cm\n",
        "import matplotlib.font_manager as fm\n",
        "\n",
        "#accuracy\n",
        "plt.rcParams['font.size'] = 15\n",
        "plt.rcParams['axes.linewidth'] = 2\n",
        "colors = cm.get_cmap('tab10', 2)\n",
        "fig = plt.figure(figsize=(4.5, 3))\n",
        "ax = fig.add_axes([0, 0, 1, 1])\n",
        "ax.xaxis.set_tick_params(which='major', size=10, width=2, direction='in')\n",
        "ax.yaxis.set_tick_params(which='major', size=10, width=2, direction='in')\n",
        "ax.plot(history.history['accuracy'], color = colors(0), linewidth = 2)\n",
        "ax.plot(history.history['val_accuracy'], color = colors(1), linewidth = 2)\n",
        "ax.set_ylim(0.93, 1.0009)\n",
        "ax.set_xlim(0, 10)\n",
        "plt.title('Model Accuracy')\n",
        "plt.ylabel('Accuracy')\n",
        "plt.xlabel('Epoch')\n",
        "plt.legend(['Train', 'Test'], loc='lower right')\n",
        "plt.show()\n",
        "\n",
        "#loss\n",
        "plt.rcParams['font.size'] = 15\n",
        "plt.rcParams['axes.linewidth'] = 2\n",
        "colors = cm.get_cmap('tab10', 2)\n",
        "fig = plt.figure(figsize=(4.5, 3))\n",
        "ax = fig.add_axes([0, 0, 1, 1])\n",
        "ax.xaxis.set_tick_params(which='major', size=10, width=2, direction='in')\n",
        "ax.yaxis.set_tick_params(which='major', size=10, width=2, direction='in')\n",
        "ax.plot(history.history['loss'], color = colors(0), linewidth = 2)\n",
        "ax.plot(history.history['val_loss'], color = colors(1), linewidth = 2)\n",
        "ax.set_ylim(-0.1, 2)\n",
        "ax.set_xlim(0, 10)\n",
        "plt.title('Model Loss')\n",
        "plt.ylabel('Loss')\n",
        "plt.xlabel('Epoch')\n",
        "plt.legend(['Train', 'Test'], loc='upper right')\n",
        "plt.show()"
      ],
      "metadata": {
        "colab": {
          "base_uri": "https://localhost:8080/",
          "height": 591
        },
        "id": "_pXrtwA7rM0i",
        "outputId": "497166ae-a687-4354-e611-ea08a437e038"
      },
      "execution_count": null,
      "outputs": [
        {
          "output_type": "display_data",
          "data": {
            "image/png": "[encoded data removed]",
            "text/plain": [
              "<Figure size 324x216 with 1 Axes>"
            ]
          },
          "metadata": {
            "needs_background": "light"
          }
        },
        {
          "output_type": "display_data",
          "data": {
            "image/png": "[encoded data removed]",
            "text/plain": [
              "<Figure size 324x216 with 1 Axes>"
            ]
          },
          "metadata": {
            "needs_background": "light"
          }
        }
      ]
    },
    {
      "cell_type": "code",
      "source": [
        "def get_predictions(generator,model):\n",
        "\ttest_steps_per_epoch = np.math.ceil(generator.samples / generator.batch_size)\n",
        "\tpredictions = model.predict_generator(generator, steps=test_steps_per_epoch)\n",
        "\tpredictions = [i[0] for i in predictions]\n",
        "\tpredictions = np.array(predictions)\n",
        "\treturn predictions\n",
        "\n",
        "\n",
        "def prediction_report(predictions,generator,cutoff,chatter=False):\n",
        "\tpredicted_classes = np.copy(predictions)\n",
        "\tpredicted_classes[predicted_classes>cutoff] = 1.0\n",
        "\tpredicted_classes[predicted_classes<cutoff] = 0.0 \n",
        "\ttrue_classes = generator.classes\n",
        "\tN_ring = len(np.where(true_classes>0.5)[0])\n",
        "\tN_normal = len(np.where(true_classes<0.5)[0])\n",
        "\ttn, fp, fn, tp = confusion_matrix(true_classes,predicted_classes).ravel()\n",
        "\tmatrix = confusion_matrix(true_classes,predicted_classes)\n",
        "\tif chatter:\n",
        "\t\tprint('True Normal predictions: {} | ({} percent)'.format(tn,(tn * 100)/N_normal))\n",
        "\t\tprint('True Ring predictions: {} | ({} percent)'.format(tp,(tp * 100)/N_ring))\n",
        "\t\tprint('False Normal predictions (actually Ring): {} | ({} percent)'.format(fn,(fn * 100)/N_ring))\n",
        "\t\tprint('False Ring predictions (actually Normal): {} | ({} percent)'.format(fp,(fp * 100)/N_normal))\n",
        "\treturn(tn, fp, fn, tp)\n",
        "\n",
        "def MCC(theta):\n",
        "\ttn, fp, fn, tp = theta\n",
        "\tnumerator = (tp*tn) - (fp*fn)\n",
        "\tdenomenator = np.sqrt((tp+fp)*(tp+fn)*(tn+fp)*(tn+fn))\n",
        "\tMCC = numerator / denomenator\n",
        "\treturn MCC\n",
        "\n",
        "def AUC(predictions,generator):\n",
        "\tthresholds = np.linspace(0.0,1,20)\n",
        "\ttprs = []\n",
        "\tfprs = []\n",
        "\tfor i in thresholds:\n",
        "\t\ttn, fp, fn, tp = prediction_report(predictions,generator,cutoff=i,chatter=False)\n",
        "\t\tTPR = tp / (fn+tp)\n",
        "\t\tFPR = fp / (fp+tn)\n",
        "\t\ttprs.append(TPR)\n",
        "\t\tfprs.append(FPR)\n",
        "\ttprs = np.array(tprs)[::-1]\n",
        "\tfprs = np.array(fprs)[::-1]\n",
        "\tplt.plot(fprs,tprs)\n",
        "\tplt.plot([0,1],[0,1],'k')\n",
        "\tarea = np.trapz(tprs,x=fprs)\n",
        "\tprint(\"Area under the curve: {}\".format(area))\n",
        "\treturn area\n"
      ],
      "metadata": {
        "id": "snWGtltXtvMp"
      },
      "execution_count": null,
      "outputs": []
    },
    {
      "cell_type": "code",
      "source": [
        "from sklearn.metrics import confusion_matrix\n",
        "predictions = get_predictions(confirmation_generator,sim_model)\n",
        "theta = prediction_report(predictions,confirmation_generator,cutoff=0.5,chatter=True)\n",
        "mcc = MCC(theta)\n",
        "print('MCC: ',mcc)\n",
        "area_under_curve = AUC(predictions,confirmation_generator)\n",
        "#print(area_under_curve)"
      ],
      "metadata": {
        "colab": {
          "base_uri": "https://localhost:8080/",
          "height": 429
        },
        "id": "uOfUenppvQbJ",
        "outputId": "2ad5cb2a-bf5d-4253-85fd-fe037f241726"
      },
      "execution_count": null,
      "outputs": [
        {
          "output_type": "stream",
          "name": "stderr",
          "text": [
            "/usr/local/lib/python3.7/dist-packages/ipykernel_launcher.py:3: UserWarning: `Model.predict_generator` is deprecated and will be removed in a future version. Please use `Model.predict`, which supports generators.\n",
            "  This is separate from the ipykernel package so we can avoid doing imports until\n"
          ]
        },
        {
          "output_type": "stream",
          "name": "stdout",
          "text": [
            "True Normal predictions: 5094 | (100.0 percent)\n",
            "True Ring predictions: 4993 | (99.87997599519905 percent)\n",
            "False Normal predictions (actually Ring): 6 | (0.12002400480096019 percent)\n",
            "False Ring predictions (actually Normal): 0 | (0.0 percent)\n",
            "MCC:  0.9988116446111701\n",
            "Area under the curve: 1.0\n"
          ]
        },
        {
          "output_type": "display_data",
          "data": {
            "image/png": "[encoded data removed]",
            "text/plain": [
              "<Figure size 432x288 with 1 Axes>"
            ]
          },
          "metadata": {
            "needs_background": "light"
          }
        }
      ]
    },
    {
      "cell_type": "code",
      "source": [
        "sim_model.save(\"RingNetSimInception\")"
      ],
      "metadata": {
        "colab": {
          "base_uri": "https://localhost:8080/"
        },
        "id": "LbcWEdwmq5_T",
        "outputId": "bd5f8d5d-30d6-482d-e1a2-c21ebe70ef7b"
      },
      "execution_count": null,
      "outputs": [
        {
          "output_type": "stream",
          "name": "stderr",
          "text": [
            "WARNING:absl:Found untraced functions such as flatten_layer_call_and_return_conditional_losses, flatten_layer_call_fn, dense_layer_call_and_return_conditional_losses, dense_layer_call_fn, dense_1_layer_call_and_return_conditional_losses while saving (showing 5 of 15). These functions will not be directly callable after loading.\n"
          ]
        },
        {
          "output_type": "stream",
          "name": "stdout",
          "text": [
            "INFO:tensorflow:Assets written to: RingNetSimInception/assets\n"
          ]
        },
        {
          "output_type": "stream",
          "name": "stderr",
          "text": [
            "INFO:tensorflow:Assets written to: RingNetSimInception/assets\n"
          ]
        }
      ]
    }
  ]
}