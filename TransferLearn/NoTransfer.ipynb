{
  "nbformat": 4,
  "nbformat_minor": 0,
  "metadata": {
    "colab": {
      "name": "NoTransfer",
      "provenance": [],
      "collapsed_sections": [],
      "background_execution": "on",
      "mount_file_id": "1I84VF9tkk7sMizqgQ1BUds3YIdIFkrAQ",
      "authorship_tag": "ABX9TyOjI1C/CnRrEIMhFhyX8h8Y",
      "include_colab_link": true
    },
    "kernelspec": {
      "name": "python3",
      "display_name": "Python 3"
    },
    "language_info": {
      "name": "python"
    },
    "accelerator": "GPU"
  },
  "cells": [
    {
      "cell_type": "markdown",
      "metadata": {
        "id": "view-in-github",
        "colab_type": "text"
      },
      "source": [
        "<a href=\"https://colab.research.google.com/github/harishk30/RingGalaxiesCNNAnalysis/blob/main/TransferLearn/NoTransfer.ipynb\" target=\"_parent\"><img src=\"https://colab.research.google.com/assets/colab-badge.svg\" alt=\"Open In Colab\"/></a>"
      ]
    },
    {
      "cell_type": "code",
      "execution_count": null,
      "metadata": {
        "id": "8ITHQD8CEqwC"
      },
      "outputs": [],
      "source": [
        "from tensorflow.keras.applications import ResNet50"
      ]
    },
    {
      "cell_type": "code",
      "source": [
        "import matplotlib.pyplot as plt\n",
        "import numpy as np\n",
        "import os\n",
        "import pathlib\n",
        "import PIL\n",
        "import tensorflow as tf\n",
        "from tensorflow import keras\n",
        "from tensorflow.keras import layers\n",
        "from tensorflow.python.keras.layers import Dense, Flatten\n",
        "from tensorflow.keras.models import Sequential\n",
        "from tensorflow.keras.optimizers import Adam"
      ],
      "metadata": {
        "id": "gaRGoShFq6AQ"
      },
      "execution_count": null,
      "outputs": []
    },
    {
      "cell_type": "code",
      "source": [
        "pip install split-folders tqdm"
      ],
      "metadata": {
        "colab": {
          "base_uri": "https://localhost:8080/"
        },
        "id": "laj6APkBTHje",
        "outputId": "bdb82580-926d-4499-a1fc-af49e32fff7d"
      },
      "execution_count": null,
      "outputs": [
        {
          "output_type": "stream",
          "name": "stdout",
          "text": [
            "Collecting split-folders\n",
            "  Downloading split_folders-0.5.1-py3-none-any.whl (8.4 kB)\n",
            "Requirement already satisfied: tqdm in /usr/local/lib/python3.7/dist-packages (4.62.3)\n",
            "Installing collected packages: split-folders\n",
            "Successfully installed split-folders-0.5.1\n"
          ]
        }
      ]
    },
    {
      "cell_type": "code",
      "source": [
        "!unzip /content/drive/MyDrive/RING_GAL_DATA_SORTED_5.zip -d /content/final_sort"
      ],
      "metadata": {
        "id": "STi4IJ1YqSWY"
      },
      "execution_count": null,
      "outputs": []
    },
    {
      "cell_type": "code",
      "source": [
        "import splitfolders\n",
        "splitfolders.ratio('/content/final_sort/RING_GAL_DATA_SORTED_4', output=\"output\", seed=1337, ratio=(0.8, 0.1, 0.1)) "
      ],
      "metadata": {
        "id": "PdSbZM5uTFhg",
        "colab": {
          "base_uri": "https://localhost:8080/"
        },
        "outputId": "c770a559-ef8b-49de-cd92-7593d542750a"
      },
      "execution_count": null,
      "outputs": [
        {
          "output_type": "stream",
          "name": "stderr",
          "text": [
            "Copying files: 9328 files [00:02, 3304.57 files/s]\n"
          ]
        }
      ]
    },
    {
      "cell_type": "code",
      "source": [
        "basetrain_dir = '/content/output/train/'\n",
        "training_dir = pathlib.Path(basetrain_dir)\n",
        "baseval_dir = '/content/output/val/'\n",
        "validation_dir = pathlib.Path(baseval_dir)\n",
        "basetest_dir = '/content/output/test/'\n",
        "test_dir = pathlib.Path(basetest_dir)"
      ],
      "metadata": {
        "id": "NoMAkg7qrXNs"
      },
      "execution_count": null,
      "outputs": []
    },
    {
      "cell_type": "code",
      "source": [
        "batch_size = 32\n",
        "img_height = 256\n",
        "img_width = 256"
      ],
      "metadata": {
        "id": "nwhKtnxmrwoS"
      },
      "execution_count": null,
      "outputs": []
    },
    {
      "cell_type": "code",
      "source": [
        "from keras.preprocessing.image import ImageDataGenerator\n",
        "data_aug = ImageDataGenerator(rescale=1./255, horizontal_flip=True, width_shift_range = 0.1, height_shift_range = 0.1, \tshear_range=1.2, zoom_range=0.25, rotation_range=360)"
      ],
      "metadata": {
        "id": "CiWO_UeJL0np"
      },
      "execution_count": null,
      "outputs": []
    },
    {
      "cell_type": "code",
      "source": [
        "test_gen = ImageDataGenerator(rescale=1./255)"
      ],
      "metadata": {
        "id": "u5mTQ-NQWF1M"
      },
      "execution_count": null,
      "outputs": []
    },
    {
      "cell_type": "code",
      "source": [
        "train_ds = data_aug.flow_from_directory(\n",
        "\ttraining_dir,  \n",
        "\ttarget_size=(img_height, img_width),  \n",
        "\tbatch_size = batch_size,\n",
        "\tclass_mode='binary')"
      ],
      "metadata": {
        "id": "m1ZVz_ksM0xn",
        "colab": {
          "base_uri": "https://localhost:8080/"
        },
        "outputId": "263970f8-5018-42e2-9bf5-9f4af27f79d9"
      },
      "execution_count": null,
      "outputs": [
        {
          "output_type": "stream",
          "name": "stdout",
          "text": [
            "Found 7461 images belonging to 2 classes.\n"
          ]
        }
      ]
    },
    {
      "cell_type": "code",
      "source": [
        "validation_ds = test_gen.flow_from_directory(\n",
        "\tvalidation_dir,\n",
        "\ttarget_size=(img_height, img_width),\n",
        "\tbatch_size = batch_size,\n",
        "\tclass_mode='binary')"
      ],
      "metadata": {
        "id": "ytmWFkh7sNFi",
        "colab": {
          "base_uri": "https://localhost:8080/"
        },
        "outputId": "7e2e4483-89bd-48d9-cc98-1ec401240fbf"
      },
      "execution_count": null,
      "outputs": [
        {
          "output_type": "stream",
          "name": "stdout",
          "text": [
            "Found 932 images belonging to 2 classes.\n"
          ]
        }
      ]
    },
    {
      "cell_type": "code",
      "source": [
        "confirmation_generator = test_gen.flow_from_directory(\n",
        "  test_dir,\n",
        "\ttarget_size = (img_height, img_width),\n",
        "\tbatch_size = batch_size,\n",
        "\tclass_mode=None,\n",
        "\tshuffle=False)"
      ],
      "metadata": {
        "id": "I71DSwyAWPxH",
        "colab": {
          "base_uri": "https://localhost:8080/"
        },
        "outputId": "357384b3-5dd7-4f2e-fed0-90ae84b495a9"
      },
      "execution_count": null,
      "outputs": [
        {
          "output_type": "stream",
          "name": "stdout",
          "text": [
            "Found 935 images belonging to 2 classes.\n"
          ]
        }
      ]
    },
    {
      "cell_type": "markdown",
      "source": [
        "Model"
      ],
      "metadata": {
        "id": "LHZKP0ACstwC"
      }
    },
    {
      "cell_type": "code",
      "source": [
        "sim_model = Sequential()\n",
        "\n",
        "ResNet_50 = ResNet50(include_top = False, \n",
        "                     weights = None,\n",
        "                     input_shape = (256, 256, 3),\n",
        "                     pooling = 'max',\n",
        "                     classes = 2)\n",
        "\n",
        "ResNet_50.trainable = True\n",
        "ResNet_50 = add_regularization(ResNet_50)\n",
        "\n",
        "sim_model.add(ResNet_50)\n",
        "sim_model.add(Flatten())\n",
        "sim_model.add(Dense(512, activation = 'relu'))\n",
        "sim_model.add(Dense(1, activation = 'sigmoid'))"
      ],
      "metadata": {
        "id": "q1GS1Zk0njSm",
        "colab": {
          "base_uri": "https://localhost:8080/"
        },
        "outputId": "ff5543b5-c045-4ba3-a962-e346b7b9a751"
      },
      "execution_count": null,
      "outputs": [
        {
          "output_type": "stream",
          "name": "stderr",
          "text": [
            "/usr/local/lib/python3.7/dist-packages/keras/engine/functional.py:1410: CustomMaskWarning: Custom mask layers require a config and must override get_config. When loading, the custom mask layer must be passed to the custom_objects argument.\n",
            "  layer_config = serialize_layer_fn(layer)\n"
          ]
        }
      ]
    },
    {
      "cell_type": "code",
      "source": [
        "import os\n",
        "import tempfile\n",
        "\n",
        "def add_regularization(model, regularizer=tf.keras.regularizers.l2(0.0001)):\n",
        "\n",
        "    if not isinstance(regularizer, tf.keras.regularizers.Regularizer):\n",
        "      print(\"Regularizer must be a subclass of tf.keras.regularizers.Regularizer\")\n",
        "      return model\n",
        "\n",
        "    for layer in model.layers:\n",
        "        for attr in ['kernel_regularizer']:\n",
        "            if hasattr(layer, attr):\n",
        "              setattr(layer, attr, regularizer)\n",
        "\n",
        "    # When we change the layers attributes, the change only happens in the model config file\n",
        "    model_json = model.to_json()\n",
        "\n",
        "    # Save the weights before reloading the model.\n",
        "    tmp_weights_path = os.path.join(tempfile.gettempdir(), 'tmp_weights.h5')\n",
        "    model.save_weights(tmp_weights_path)\n",
        "\n",
        "    # load the model from the config\n",
        "    model = tf.keras.models.model_from_json(model_json)\n",
        "    \n",
        "    # Reload the model weights\n",
        "    model.load_weights(tmp_weights_path, by_name=True)\n",
        "    return model"
      ],
      "metadata": {
        "id": "Ul1-rFuUytYj"
      },
      "execution_count": null,
      "outputs": []
    },
    {
      "cell_type": "code",
      "source": [
        "sim_model.summary()"
      ],
      "metadata": {
        "colab": {
          "base_uri": "https://localhost:8080/"
        },
        "id": "5yEd-IsCt4Om",
        "outputId": "35c40ba4-a850-4b7d-cf86-025bf43b8c14"
      },
      "execution_count": null,
      "outputs": [
        {
          "output_type": "stream",
          "name": "stdout",
          "text": [
            "Model: \"sequential_1\"\n",
            "_________________________________________________________________\n",
            " Layer (type)                Output Shape              Param #   \n",
            "=================================================================\n",
            " resnet50 (Functional)       (None, 2048)              23587712  \n",
            "                                                                 \n",
            " module_wrapper (ModuleWrapp  (None, 2048)             0         \n",
            " er)                                                             \n",
            "                                                                 \n",
            " module_wrapper_1 (ModuleWra  (None, 512)              1049088   \n",
            " pper)                                                           \n",
            "                                                                 \n",
            " module_wrapper_2 (ModuleWra  (None, 1)                513       \n",
            " pper)                                                           \n",
            "                                                                 \n",
            "=================================================================\n",
            "Total params: 24,637,313\n",
            "Trainable params: 24,584,193\n",
            "Non-trainable params: 53,120\n",
            "_________________________________________________________________\n"
          ]
        }
      ]
    },
    {
      "cell_type": "code",
      "source": [
        "sim_model.compile(optimizer = Adam(learning_rate = 0.0001), loss = 'binary_crossentropy', metrics = ['accuracy'])"
      ],
      "metadata": {
        "id": "S2XggNeMuAFn"
      },
      "execution_count": null,
      "outputs": []
    },
    {
      "cell_type": "code",
      "source": [
        "epochs = 1000\n",
        "callback = tf.keras.callbacks.EarlyStopping(monitor='val_loss', patience=10)\n",
        "history = sim_model.fit(\n",
        "    train_ds,\n",
        "    validation_data = validation_ds,\n",
        "    epochs = epochs,\n",
        "    callbacks = [callback]\n",
        ")"
      ],
      "metadata": {
        "id": "FJUMZn-YuOq1",
        "colab": {
          "base_uri": "https://localhost:8080/"
        },
        "outputId": "875b5a4d-5576-4434-b773-171ad96705be"
      },
      "execution_count": null,
      "outputs": [
        {
          "output_type": "stream",
          "name": "stdout",
          "text": [
            "Epoch 1/1000\n",
            "234/234 [==============================] - 138s 521ms/step - loss: 2.7401 - accuracy: 0.6967 - val_loss: 2.4823 - val_accuracy: 0.6427\n",
            "Epoch 2/1000\n",
            "234/234 [==============================] - 119s 507ms/step - loss: 2.4509 - accuracy: 0.7467 - val_loss: 2.8896 - val_accuracy: 0.6406\n",
            "Epoch 3/1000\n",
            "234/234 [==============================] - 117s 501ms/step - loss: 2.3298 - accuracy: 0.7811 - val_loss: 2.1965 - val_accuracy: 0.8423\n",
            "Epoch 4/1000\n",
            "234/234 [==============================] - 117s 500ms/step - loss: 2.3071 - accuracy: 0.7983 - val_loss: 2.1242 - val_accuracy: 0.8873\n",
            "Epoch 5/1000\n",
            "234/234 [==============================] - 117s 500ms/step - loss: 2.2206 - accuracy: 0.8309 - val_loss: 2.1334 - val_accuracy: 0.8906\n",
            "Epoch 6/1000\n",
            "234/234 [==============================] - 119s 509ms/step - loss: 2.1561 - accuracy: 0.8641 - val_loss: 2.0754 - val_accuracy: 0.8948\n",
            "Epoch 7/1000\n",
            "234/234 [==============================] - 119s 508ms/step - loss: 2.1315 - accuracy: 0.8719 - val_loss: 2.2893 - val_accuracy: 0.8423\n",
            "Epoch 8/1000\n",
            "234/234 [==============================] - 117s 499ms/step - loss: 2.0909 - accuracy: 0.8906 - val_loss: 2.2904 - val_accuracy: 0.8133\n",
            "Epoch 9/1000\n",
            "234/234 [==============================] - 117s 499ms/step - loss: 2.1062 - accuracy: 0.8822 - val_loss: 2.0353 - val_accuracy: 0.8938\n",
            "Epoch 10/1000\n",
            "234/234 [==============================] - 117s 500ms/step - loss: 2.0522 - accuracy: 0.9004 - val_loss: 2.5447 - val_accuracy: 0.6996\n",
            "Epoch 11/1000\n",
            "234/234 [==============================] - 117s 498ms/step - loss: 2.0424 - accuracy: 0.9015 - val_loss: 1.9606 - val_accuracy: 0.9345\n",
            "Epoch 12/1000\n",
            "234/234 [==============================] - 116s 495ms/step - loss: 2.0268 - accuracy: 0.9046 - val_loss: 1.9842 - val_accuracy: 0.9099\n",
            "Epoch 13/1000\n",
            "234/234 [==============================] - 116s 494ms/step - loss: 1.9844 - accuracy: 0.9185 - val_loss: 2.6994 - val_accuracy: 0.7103\n",
            "Epoch 14/1000\n",
            "234/234 [==============================] - 116s 496ms/step - loss: 1.9773 - accuracy: 0.9138 - val_loss: 2.0052 - val_accuracy: 0.9120\n",
            "Epoch 15/1000\n",
            "234/234 [==============================] - 116s 496ms/step - loss: 1.9650 - accuracy: 0.9201 - val_loss: 1.9212 - val_accuracy: 0.9217\n",
            "Epoch 16/1000\n",
            "234/234 [==============================] - 116s 495ms/step - loss: 1.9454 - accuracy: 0.9160 - val_loss: 1.8973 - val_accuracy: 0.9335\n",
            "Epoch 17/1000\n",
            "234/234 [==============================] - 116s 495ms/step - loss: 1.9506 - accuracy: 0.9063 - val_loss: 1.8896 - val_accuracy: 0.9313\n",
            "Epoch 18/1000\n",
            "234/234 [==============================] - 116s 495ms/step - loss: 1.9070 - accuracy: 0.9161 - val_loss: 2.6472 - val_accuracy: 0.6588\n",
            "Epoch 19/1000\n",
            "234/234 [==============================] - 116s 495ms/step - loss: 1.9309 - accuracy: 0.9068 - val_loss: 3.4607 - val_accuracy: 0.6588\n",
            "Epoch 20/1000\n",
            "234/234 [==============================] - 116s 495ms/step - loss: 1.8833 - accuracy: 0.9107 - val_loss: 1.8801 - val_accuracy: 0.9067\n",
            "Epoch 21/1000\n",
            "234/234 [==============================] - 116s 497ms/step - loss: 1.8407 - accuracy: 0.9180 - val_loss: 2.1282 - val_accuracy: 0.8208\n",
            "Epoch 22/1000\n",
            "234/234 [==============================] - 117s 498ms/step - loss: 1.7877 - accuracy: 0.9282 - val_loss: 1.9234 - val_accuracy: 0.8841\n",
            "Epoch 23/1000\n",
            "234/234 [==============================] - 116s 495ms/step - loss: 1.7692 - accuracy: 0.9261 - val_loss: 1.8062 - val_accuracy: 0.8970\n",
            "Epoch 24/1000\n",
            "234/234 [==============================] - 116s 495ms/step - loss: 1.7549 - accuracy: 0.9194 - val_loss: 1.6681 - val_accuracy: 0.9474\n",
            "Epoch 25/1000\n",
            "234/234 [==============================] - 116s 495ms/step - loss: 1.7048 - accuracy: 0.9302 - val_loss: 2.2275 - val_accuracy: 0.7403\n",
            "Epoch 26/1000\n",
            "234/234 [==============================] - 116s 497ms/step - loss: 1.6799 - accuracy: 0.9249 - val_loss: 1.6225 - val_accuracy: 0.9453\n",
            "Epoch 27/1000\n",
            "234/234 [==============================] - 116s 495ms/step - loss: 1.6564 - accuracy: 0.9204 - val_loss: 2.4203 - val_accuracy: 0.7060\n",
            "Epoch 28/1000\n",
            "234/234 [==============================] - 116s 495ms/step - loss: 1.6462 - accuracy: 0.9127 - val_loss: 1.7861 - val_accuracy: 0.8283\n",
            "Epoch 29/1000\n",
            "234/234 [==============================] - 116s 495ms/step - loss: 1.5973 - accuracy: 0.9166 - val_loss: 1.7132 - val_accuracy: 0.8197\n",
            "Epoch 30/1000\n",
            "234/234 [==============================] - 116s 495ms/step - loss: 1.5862 - accuracy: 0.9149 - val_loss: 1.5511 - val_accuracy: 0.9120\n",
            "Epoch 31/1000\n",
            "234/234 [==============================] - 116s 495ms/step - loss: 1.5139 - accuracy: 0.9231 - val_loss: 2.0987 - val_accuracy: 0.6878\n",
            "Epoch 32/1000\n",
            "234/234 [==============================] - 116s 496ms/step - loss: 1.4732 - accuracy: 0.9245 - val_loss: 1.4071 - val_accuracy: 0.9378\n",
            "Epoch 33/1000\n",
            "234/234 [==============================] - 116s 494ms/step - loss: 1.4059 - accuracy: 0.9330 - val_loss: 1.5162 - val_accuracy: 0.8852\n",
            "Epoch 34/1000\n",
            "234/234 [==============================] - 116s 494ms/step - loss: 1.3930 - accuracy: 0.9232 - val_loss: 1.7520 - val_accuracy: 0.7876\n",
            "Epoch 35/1000\n",
            "234/234 [==============================] - 116s 495ms/step - loss: 1.3498 - accuracy: 0.9275 - val_loss: 1.4206 - val_accuracy: 0.8798\n",
            "Epoch 36/1000\n",
            "234/234 [==============================] - 116s 495ms/step - loss: 1.2950 - accuracy: 0.9312 - val_loss: 1.2749 - val_accuracy: 0.9410\n",
            "Epoch 37/1000\n",
            "234/234 [==============================] - 116s 497ms/step - loss: 1.2593 - accuracy: 0.9280 - val_loss: 1.6418 - val_accuracy: 0.8487\n",
            "Epoch 38/1000\n",
            "234/234 [==============================] - 116s 494ms/step - loss: 1.2082 - accuracy: 0.9333 - val_loss: 1.1908 - val_accuracy: 0.9281\n",
            "Epoch 39/1000\n",
            "234/234 [==============================] - 116s 494ms/step - loss: 1.1889 - accuracy: 0.9255 - val_loss: 2.0760 - val_accuracy: 0.6921\n",
            "Epoch 40/1000\n",
            "234/234 [==============================] - 116s 496ms/step - loss: 1.1438 - accuracy: 0.9278 - val_loss: 1.6194 - val_accuracy: 0.8079\n",
            "Epoch 41/1000\n",
            "234/234 [==============================] - 116s 495ms/step - loss: 1.0894 - accuracy: 0.9343 - val_loss: 1.1404 - val_accuracy: 0.9206\n",
            "Epoch 42/1000\n",
            "234/234 [==============================] - 116s 495ms/step - loss: 1.0748 - accuracy: 0.9287 - val_loss: 1.2401 - val_accuracy: 0.8884\n",
            "Epoch 43/1000\n",
            "234/234 [==============================] - 116s 495ms/step - loss: 1.0500 - accuracy: 0.9240 - val_loss: 1.1398 - val_accuracy: 0.9099\n",
            "Epoch 44/1000\n",
            "234/234 [==============================] - 116s 494ms/step - loss: 0.9929 - accuracy: 0.9353 - val_loss: 1.0228 - val_accuracy: 0.9024\n",
            "Epoch 45/1000\n",
            "234/234 [==============================] - 116s 496ms/step - loss: 0.9571 - accuracy: 0.9326 - val_loss: 1.5018 - val_accuracy: 0.7318\n",
            "Epoch 46/1000\n",
            "234/234 [==============================] - 116s 494ms/step - loss: 0.9269 - accuracy: 0.9363 - val_loss: 0.9377 - val_accuracy: 0.9131\n",
            "Epoch 47/1000\n",
            "234/234 [==============================] - 116s 495ms/step - loss: 0.8961 - accuracy: 0.9334 - val_loss: 1.3667 - val_accuracy: 0.7843\n",
            "Epoch 48/1000\n",
            "234/234 [==============================] - 116s 494ms/step - loss: 0.8741 - accuracy: 0.9351 - val_loss: 1.0043 - val_accuracy: 0.8616\n",
            "Epoch 49/1000\n",
            "234/234 [==============================] - 116s 496ms/step - loss: 0.8579 - accuracy: 0.9280 - val_loss: 0.8148 - val_accuracy: 0.9474\n",
            "Epoch 50/1000\n",
            "234/234 [==============================] - 116s 496ms/step - loss: 0.8222 - accuracy: 0.9324 - val_loss: 0.8128 - val_accuracy: 0.9270\n",
            "Epoch 51/1000\n",
            "234/234 [==============================] - 116s 494ms/step - loss: 0.7863 - accuracy: 0.9424 - val_loss: 1.3193 - val_accuracy: 0.8165\n",
            "Epoch 52/1000\n",
            "234/234 [==============================] - 116s 496ms/step - loss: 0.7910 - accuracy: 0.9290 - val_loss: 0.9579 - val_accuracy: 0.8777\n",
            "Epoch 53/1000\n",
            "234/234 [==============================] - 117s 499ms/step - loss: 0.7422 - accuracy: 0.9386 - val_loss: 1.3272 - val_accuracy: 0.7564\n",
            "Epoch 54/1000\n",
            "234/234 [==============================] - 116s 496ms/step - loss: 0.7431 - accuracy: 0.9302 - val_loss: 0.9225 - val_accuracy: 0.8938\n",
            "Epoch 55/1000\n",
            "234/234 [==============================] - 116s 496ms/step - loss: 0.7044 - accuracy: 0.9398 - val_loss: 0.6611 - val_accuracy: 0.9528\n",
            "Epoch 56/1000\n",
            "234/234 [==============================] - 116s 496ms/step - loss: 0.7154 - accuracy: 0.9329 - val_loss: 1.8197 - val_accuracy: 0.6985\n",
            "Epoch 57/1000\n",
            "234/234 [==============================] - 116s 495ms/step - loss: 0.7104 - accuracy: 0.9280 - val_loss: 0.6949 - val_accuracy: 0.9227\n",
            "Epoch 58/1000\n",
            "234/234 [==============================] - 116s 494ms/step - loss: 0.6639 - accuracy: 0.9371 - val_loss: 0.8583 - val_accuracy: 0.8230\n",
            "Epoch 59/1000\n",
            "234/234 [==============================] - 116s 494ms/step - loss: 0.6440 - accuracy: 0.9385 - val_loss: 0.9514 - val_accuracy: 0.8391\n",
            "Epoch 60/1000\n",
            "234/234 [==============================] - 116s 497ms/step - loss: 0.6520 - accuracy: 0.9338 - val_loss: 0.6451 - val_accuracy: 0.9303\n",
            "Epoch 61/1000\n",
            "234/234 [==============================] - 116s 494ms/step - loss: 0.6293 - accuracy: 0.9330 - val_loss: 0.8964 - val_accuracy: 0.8959\n",
            "Epoch 62/1000\n",
            "234/234 [==============================] - 116s 497ms/step - loss: 0.5966 - accuracy: 0.9456 - val_loss: 0.9205 - val_accuracy: 0.7908\n",
            "Epoch 63/1000\n",
            "234/234 [==============================] - 116s 495ms/step - loss: 0.5835 - accuracy: 0.9459 - val_loss: 0.7604 - val_accuracy: 0.8627\n",
            "Epoch 64/1000\n",
            "234/234 [==============================] - 116s 496ms/step - loss: 0.5835 - accuracy: 0.9426 - val_loss: 0.6056 - val_accuracy: 0.9206\n",
            "Epoch 65/1000\n",
            "234/234 [==============================] - 116s 496ms/step - loss: 0.5662 - accuracy: 0.9426 - val_loss: 2.0843 - val_accuracy: 0.7736\n",
            "Epoch 66/1000\n",
            "234/234 [==============================] - 116s 497ms/step - loss: 0.5646 - accuracy: 0.9374 - val_loss: 1.9657 - val_accuracy: 0.6931\n",
            "Epoch 67/1000\n",
            "234/234 [==============================] - 116s 497ms/step - loss: 0.5401 - accuracy: 0.9469 - val_loss: 0.6356 - val_accuracy: 0.9034\n",
            "Epoch 68/1000\n",
            "234/234 [==============================] - 116s 496ms/step - loss: 0.5291 - accuracy: 0.9420 - val_loss: 0.7904 - val_accuracy: 0.8208\n",
            "Epoch 69/1000\n",
            "234/234 [==============================] - 116s 495ms/step - loss: 0.5135 - accuracy: 0.9456 - val_loss: 0.5137 - val_accuracy: 0.9421\n",
            "Epoch 70/1000\n",
            "234/234 [==============================] - 116s 494ms/step - loss: 0.5256 - accuracy: 0.9410 - val_loss: 0.5126 - val_accuracy: 0.9442\n",
            "Epoch 71/1000\n",
            "234/234 [==============================] - 118s 505ms/step - loss: 0.5050 - accuracy: 0.9434 - val_loss: 0.7869 - val_accuracy: 0.8230\n",
            "Epoch 72/1000\n",
            "234/234 [==============================] - 116s 494ms/step - loss: 0.5180 - accuracy: 0.9393 - val_loss: 0.5118 - val_accuracy: 0.9485\n",
            "Epoch 73/1000\n",
            "234/234 [==============================] - 116s 495ms/step - loss: 0.4900 - accuracy: 0.9430 - val_loss: 0.4861 - val_accuracy: 0.9453\n",
            "Epoch 74/1000\n",
            "234/234 [==============================] - 116s 496ms/step - loss: 0.4672 - accuracy: 0.9475 - val_loss: 0.4956 - val_accuracy: 0.9335\n",
            "Epoch 75/1000\n",
            "234/234 [==============================] - 116s 495ms/step - loss: 0.4718 - accuracy: 0.9454 - val_loss: 0.7650 - val_accuracy: 0.8208\n",
            "Epoch 76/1000\n",
            "234/234 [==============================] - 116s 495ms/step - loss: 0.4712 - accuracy: 0.9452 - val_loss: 0.5391 - val_accuracy: 0.9206\n",
            "Epoch 77/1000\n",
            "234/234 [==============================] - 116s 495ms/step - loss: 0.5050 - accuracy: 0.9351 - val_loss: 0.6456 - val_accuracy: 0.8594\n",
            "Epoch 78/1000\n",
            "234/234 [==============================] - 116s 495ms/step - loss: 0.4806 - accuracy: 0.9383 - val_loss: 0.9424 - val_accuracy: 0.8047\n",
            "Epoch 79/1000\n",
            "234/234 [==============================] - 116s 496ms/step - loss: 0.4576 - accuracy: 0.9459 - val_loss: 1.9319 - val_accuracy: 0.7790\n",
            "Epoch 80/1000\n",
            "234/234 [==============================] - 116s 495ms/step - loss: 0.4535 - accuracy: 0.9446 - val_loss: 0.4776 - val_accuracy: 0.9217\n",
            "Epoch 81/1000\n",
            "234/234 [==============================] - 116s 495ms/step - loss: 0.4544 - accuracy: 0.9404 - val_loss: 0.4609 - val_accuracy: 0.9345\n",
            "Epoch 82/1000\n",
            "234/234 [==============================] - 116s 495ms/step - loss: 0.4272 - accuracy: 0.9473 - val_loss: 0.6661 - val_accuracy: 0.8734\n",
            "Epoch 83/1000\n",
            "234/234 [==============================] - 116s 495ms/step - loss: 0.4225 - accuracy: 0.9485 - val_loss: 0.6760 - val_accuracy: 0.8702\n",
            "Epoch 84/1000\n",
            "234/234 [==============================] - 116s 496ms/step - loss: 0.4464 - accuracy: 0.9409 - val_loss: 1.5349 - val_accuracy: 0.6513\n",
            "Epoch 85/1000\n",
            "234/234 [==============================] - 116s 495ms/step - loss: 0.4249 - accuracy: 0.9460 - val_loss: 0.4795 - val_accuracy: 0.9217\n",
            "Epoch 86/1000\n",
            "234/234 [==============================] - 116s 496ms/step - loss: 0.4470 - accuracy: 0.9420 - val_loss: 1.2776 - val_accuracy: 0.6663\n",
            "Epoch 87/1000\n",
            "234/234 [==============================] - 116s 496ms/step - loss: 0.4469 - accuracy: 0.9369 - val_loss: 1.1301 - val_accuracy: 0.7060\n",
            "Epoch 88/1000\n",
            "234/234 [==============================] - 117s 499ms/step - loss: 0.4183 - accuracy: 0.9440 - val_loss: 0.8401 - val_accuracy: 0.7715\n",
            "Epoch 89/1000\n",
            "234/234 [==============================] - 116s 495ms/step - loss: 0.4000 - accuracy: 0.9508 - val_loss: 0.5314 - val_accuracy: 0.9024\n",
            "Epoch 90/1000\n",
            "234/234 [==============================] - 116s 497ms/step - loss: 0.3915 - accuracy: 0.9497 - val_loss: 0.4345 - val_accuracy: 0.9431\n",
            "Epoch 91/1000\n",
            "234/234 [==============================] - 117s 498ms/step - loss: 0.3849 - accuracy: 0.9509 - val_loss: 1.0055 - val_accuracy: 0.7693\n",
            "Epoch 92/1000\n",
            "234/234 [==============================] - 116s 495ms/step - loss: 0.3901 - accuracy: 0.9500 - val_loss: 0.5328 - val_accuracy: 0.8927\n",
            "Epoch 93/1000\n",
            "234/234 [==============================] - 116s 496ms/step - loss: 0.3949 - accuracy: 0.9477 - val_loss: 0.5481 - val_accuracy: 0.8948\n",
            "Epoch 94/1000\n",
            "234/234 [==============================] - 116s 497ms/step - loss: 0.3816 - accuracy: 0.9475 - val_loss: 1.0857 - val_accuracy: 0.7296\n",
            "Epoch 95/1000\n",
            "234/234 [==============================] - 116s 494ms/step - loss: 0.3858 - accuracy: 0.9481 - val_loss: 0.4966 - val_accuracy: 0.9163\n",
            "Epoch 96/1000\n",
            "234/234 [==============================] - 118s 504ms/step - loss: 0.3759 - accuracy: 0.9467 - val_loss: 0.7610 - val_accuracy: 0.8176\n",
            "Epoch 97/1000\n",
            "234/234 [==============================] - 116s 497ms/step - loss: 0.3740 - accuracy: 0.9503 - val_loss: 0.7726 - val_accuracy: 0.8079\n",
            "Epoch 98/1000\n",
            "234/234 [==============================] - 116s 494ms/step - loss: 0.3963 - accuracy: 0.9396 - val_loss: 0.6525 - val_accuracy: 0.8326\n",
            "Epoch 99/1000\n",
            "234/234 [==============================] - 116s 497ms/step - loss: 0.3664 - accuracy: 0.9493 - val_loss: 0.3799 - val_accuracy: 0.9431\n",
            "Epoch 100/1000\n",
            "234/234 [==============================] - 117s 498ms/step - loss: 0.3702 - accuracy: 0.9467 - val_loss: 0.4065 - val_accuracy: 0.9345\n",
            "Epoch 101/1000\n",
            "234/234 [==============================] - 116s 497ms/step - loss: 0.3590 - accuracy: 0.9515 - val_loss: 0.8263 - val_accuracy: 0.7800\n",
            "Epoch 102/1000\n",
            "234/234 [==============================] - 117s 498ms/step - loss: 0.3801 - accuracy: 0.9406 - val_loss: 0.6565 - val_accuracy: 0.8552\n",
            "Epoch 103/1000\n",
            "234/234 [==============================] - 116s 497ms/step - loss: 0.3592 - accuracy: 0.9499 - val_loss: 0.3473 - val_accuracy: 0.9517\n",
            "Epoch 104/1000\n",
            "234/234 [==============================] - 116s 496ms/step - loss: 0.4207 - accuracy: 0.9288 - val_loss: 0.6390 - val_accuracy: 0.8401\n",
            "Epoch 105/1000\n",
            "234/234 [==============================] - 116s 497ms/step - loss: 0.3788 - accuracy: 0.9442 - val_loss: 0.4698 - val_accuracy: 0.9067\n",
            "Epoch 106/1000\n",
            "234/234 [==============================] - 116s 496ms/step - loss: 0.3511 - accuracy: 0.9522 - val_loss: 0.9636 - val_accuracy: 0.7564\n",
            "Epoch 107/1000\n",
            "234/234 [==============================] - 116s 496ms/step - loss: 0.3460 - accuracy: 0.9489 - val_loss: 0.7474 - val_accuracy: 0.7994\n",
            "Epoch 108/1000\n",
            "234/234 [==============================] - 117s 500ms/step - loss: 0.3607 - accuracy: 0.9424 - val_loss: 1.4406 - val_accuracy: 0.6867\n",
            "Epoch 109/1000\n",
            "234/234 [==============================] - 117s 499ms/step - loss: 0.3454 - accuracy: 0.9520 - val_loss: 0.9632 - val_accuracy: 0.7961\n",
            "Epoch 110/1000\n",
            "234/234 [==============================] - 116s 496ms/step - loss: 0.3399 - accuracy: 0.9520 - val_loss: 0.4223 - val_accuracy: 0.9217\n",
            "Epoch 111/1000\n",
            "234/234 [==============================] - 117s 499ms/step - loss: 0.3721 - accuracy: 0.9404 - val_loss: 0.4973 - val_accuracy: 0.9088\n",
            "Epoch 112/1000\n",
            "234/234 [==============================] - 116s 497ms/step - loss: 0.3395 - accuracy: 0.9528 - val_loss: 0.5003 - val_accuracy: 0.8970\n",
            "Epoch 113/1000\n",
            "234/234 [==============================] - 116s 495ms/step - loss: 0.3542 - accuracy: 0.9434 - val_loss: 0.6308 - val_accuracy: 0.8305\n"
          ]
        }
      ]
    },
    {
      "cell_type": "markdown",
      "source": [
        "Evaluation"
      ],
      "metadata": {
        "id": "fRMjiDLssc1q"
      }
    },
    {
      "cell_type": "code",
      "source": [
        "\n",
        "import matplotlib as mpl\n",
        "import matplotlib.pyplot as plt\n",
        "import numpy as np\n",
        "from pylab import cm\n",
        "import matplotlib.font_manager as fm\n",
        "\n",
        "#accuracy\n",
        "plt.rcParams['font.size'] = 15\n",
        "plt.rcParams['axes.linewidth'] = 2\n",
        "colors = cm.get_cmap('tab10', 2)\n",
        "fig = plt.figure(figsize=(4.5, 3))\n",
        "ax = fig.add_axes([0, 0, 1, 1])\n",
        "ax.xaxis.set_tick_params(which='major', size=10, width=2, direction='in')\n",
        "ax.yaxis.set_tick_params(which='major', size=10, width=2, direction='in')\n",
        "ax.plot([0.9790, 0.9964, 0.9973, 0.9971, 0.9979, 0.9989, 0.9990, 0.9990, 0.9993, 0.9989, 0.9991], color = colors(0), linewidth = 2)\n",
        "ax.plot([0.9405, 0.6335, 0.5302, 0.9828, 0.9982, 0.9991, 0.9998, 0.9986, 0.9999, 0.9992, 0.9610], color = colors(1), linewidth = 2)\n",
        "ax.set_ylim(0.93, 1.0009)\n",
        "ax.set_xlim(0, 10)\n",
        "plt.title('Model Accuracy')\n",
        "plt.ylabel('Accuracy')\n",
        "plt.xlabel('Epoch')\n",
        "plt.legend(['Train', 'Test'], loc='lower right')\n",
        "plt.show()\n",
        "\n",
        "#loss\n",
        "plt.rcParams['font.size'] = 15\n",
        "plt.rcParams['axes.linewidth'] = 2\n",
        "colors = cm.get_cmap('tab10', 2)\n",
        "fig = plt.figure(figsize=(4.5, 3))\n",
        "ax = fig.add_axes([0, 0, 1, 1])\n",
        "ax.xaxis.set_tick_params(which='major', size=10, width=2, direction='in')\n",
        "ax.yaxis.set_tick_params(which='major', size=10, width=2, direction='in')\n",
        "ax.plot([1.8642, 1.6245, 1.2519, 0.7798, 0.4468, 0.2859, 0.2071, 0.1615, 0.1322, 0.1158, 0.0993], color = colors(0), linewidth = 2)\n",
        "ax.plot([2.1360, 5.6161, 35.5136, 0.6390, 0.3525, 0.2354, 0.1744, 0.1572, 0.1134, 0.1017, 0.2445], color = colors(1), linewidth = 2)\n",
        "ax.set_ylim(-0.1, 2)\n",
        "ax.set_xlim(0, 10)\n",
        "plt.title('Model Loss')\n",
        "plt.ylabel('Loss')\n",
        "plt.xlabel('Epoch')\n",
        "plt.legend(['Train', 'Test'], loc='upper right')\n",
        "plt.show()"
      ],
      "metadata": {
        "colab": {
          "base_uri": "https://localhost:8080/",
          "height": 591
        },
        "id": "_pXrtwA7rM0i",
        "outputId": "6663ba9a-8a81-42fb-9e23-fccad7e429eb"
      },
      "execution_count": null,
      "outputs": [
        {
          "output_type": "display_data",
          "data": {
            "image/png": "[encoded data removed]",
            "text/plain": [
              "<Figure size 324x216 with 1 Axes>"
            ]
          },
          "metadata": {
            "needs_background": "light"
          }
        },
        {
          "output_type": "display_data",
          "data": {
            "image/png": "[encoded data removed]",
            "text/plain": [
              "<Figure size 324x216 with 1 Axes>"
            ]
          },
          "metadata": {
            "needs_background": "light"
          }
        }
      ]
    },
    {
      "cell_type": "code",
      "source": [
        "def get_predictions(generator,model):\n",
        "\ttest_steps_per_epoch = np.math.ceil(generator.samples / generator.batch_size)\n",
        "\tpredictions = model.predict_generator(generator, steps=test_steps_per_epoch)\n",
        "\tpredictions = [i[0] for i in predictions]\n",
        "\tpredictions = np.array(predictions)\n",
        "\treturn predictions\n",
        "\n",
        "\n",
        "def prediction_report(predictions,generator,cutoff,chatter=False):\n",
        "\tpredicted_classes = np.copy(predictions)\n",
        "\tpredicted_classes[predicted_classes>cutoff] = 1.0\n",
        "\tpredicted_classes[predicted_classes<cutoff] = 0.0 \n",
        "\ttrue_classes = generator.classes\n",
        "\tN_ring = len(np.where(true_classes>0.5)[0])\n",
        "\tN_normal = len(np.where(true_classes<0.5)[0])\n",
        "\ttn, fp, fn, tp = confusion_matrix(true_classes,predicted_classes).ravel()\n",
        "\tmatrix = confusion_matrix(true_classes,predicted_classes)\n",
        "\tif chatter:\n",
        "\t\tprint('True Normal predictions: {} | ({} percent)'.format(tn,(tn * 100)/N_normal))\n",
        "\t\tprint('True Ring predictions: {} | ({} percent)'.format(tp,(tp * 100)/N_ring))\n",
        "\t\tprint('False Normal predictions (actually Ring): {} | ({} percent)'.format(fn,(fn * 100)/N_ring))\n",
        "\t\tprint('False Ring predictions (actually Normal): {} | ({} percent)'.format(fp,(fp * 100)/N_normal))\n",
        "\treturn(tn, fp, fn, tp)\n",
        "\n",
        "def MCC(theta):\n",
        "\ttn, fp, fn, tp = theta\n",
        "\tnumerator = (tp*tn) - (fp*fn)\n",
        "\tdenomenator = np.sqrt((tp+fp)*(tp+fn)*(tn+fp)*(tn+fn))\n",
        "\tMCC = numerator / denomenator\n",
        "\treturn MCC\n",
        "\n",
        "def AUC(predictions,generator):\n",
        "\tthresholds = np.linspace(0.0,1,20)\n",
        "\ttprs = []\n",
        "\tfprs = []\n",
        "\tfor i in thresholds:\n",
        "\t\ttn, fp, fn, tp = prediction_report(predictions,generator,cutoff=i,chatter=False)\n",
        "\t\tTPR = tp / (fn+tp)\n",
        "\t\tFPR = fp / (fp+tn)\n",
        "\t\ttprs.append(TPR)\n",
        "\t\tfprs.append(FPR)\n",
        "\ttprs = np.array(tprs)[::-1]\n",
        "\tfprs = np.array(fprs)[::-1]\n",
        "\tplt.plot(fprs,tprs)\n",
        "\tplt.plot([0,1],[0,1],'k')\n",
        "\tarea = np.trapz(tprs,x=fprs)\n",
        "\tprint(\"Area under the curve: {}\".format(area))\n",
        "\treturn area\n"
      ],
      "metadata": {
        "id": "snWGtltXtvMp"
      },
      "execution_count": null,
      "outputs": []
    },
    {
      "cell_type": "code",
      "source": [
        "from sklearn.metrics import confusion_matrix\n",
        "predictions = get_predictions(confirmation_generator,sim_model)\n",
        "theta = prediction_report(predictions,confirmation_generator,cutoff=0.5,chatter=True)\n",
        "mcc = MCC(theta)\n",
        "print('MCC: ',mcc)\n",
        "area_under_curve = AUC(predictions,confirmation_generator)\n",
        "#print(area_under_curve)"
      ],
      "metadata": {
        "colab": {
          "base_uri": "https://localhost:8080/"
        },
        "id": "uOfUenppvQbJ",
        "outputId": "d8d2439d-be3e-4f77-fb8c-234b6a259a22"
      },
      "execution_count": null,
      "outputs": [
        {
          "output_type": "stream",
          "name": "stderr",
          "text": [
            "/usr/local/lib/python3.7/dist-packages/ipykernel_launcher.py:3: UserWarning: `Model.predict_generator` is deprecated and will be removed in a future version. Please use `Model.predict`, which supports generators.\n",
            "  This is separate from the ipykernel package so we can avoid doing imports until\n"
          ]
        },
        {
          "output_type": "stream",
          "name": "stdout",
          "text": [
            "True Normal predictions: 575 | (92.44372990353698 percent)\n",
            "True Ring predictions: 220 | (70.28753993610223 percent)\n",
            "False Normal predictions (actually Ring): 93 | (29.712460063897762 percent)\n",
            "False Ring predictions (actually Normal): 47 | (7.556270096463023 percent)\n",
            "MCC:  0.6554017218983229\n",
            "Area under the curve: 0.8848324995120347\n"
          ]
        },
        {
          "output_type": "display_data",
          "data": {
            "image/png": "[encoded data removed]",
            "text/plain": [
              "<Figure size 432x288 with 1 Axes>"
            ]
          },
          "metadata": {
            "needs_background": "light"
          }
        }
      ]
    },
    {
      "cell_type": "code",
      "source": [
        "sim_model.evaluate(confirmation_generator)"
      ],
      "metadata": {
        "colab": {
          "base_uri": "https://localhost:8080/"
        },
        "id": "_bXcD7bOm5rs",
        "outputId": "060d65d0-33bb-4a61-a079-255fcac6d206"
      },
      "execution_count": null,
      "outputs": [
        {
          "output_type": "stream",
          "name": "stdout",
          "text": [
            "30/30 [==============================] - 3s 68ms/step - loss: 0.1919 - accuracy: 0.0000e+00\n"
          ]
        },
        {
          "output_type": "execute_result",
          "data": {
            "text/plain": [
              "[0.19190837442874908, 0.0]"
            ]
          },
          "metadata": {},
          "execution_count": 21
        }
      ]
    },
    {
      "cell_type": "code",
      "source": [
        "sim_model.save(\"RingNetSim\")"
      ],
      "metadata": {
        "id": "LbcWEdwmq5_T"
      },
      "execution_count": null,
      "outputs": []
    }
  ]
}