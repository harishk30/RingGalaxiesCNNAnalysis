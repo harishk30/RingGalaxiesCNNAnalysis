{
  "nbformat": 4,
  "nbformat_minor": 0,
  "metadata": {
    "colab": {
      "name": "ResNet50Simulated.ipynb",
      "provenance": [],
      "collapsed_sections": [],
      "background_execution": "on",
      "mount_file_id": "1bsRmDKIURlytsGSZUYsq7dDpCKjYj8Fw",
      "authorship_tag": "ABX9TyM6TOIfcaF4HhnVkQHHTyAr"
    },
    "kernelspec": {
      "name": "python3",
      "display_name": "Python 3"
    },
    "language_info": {
      "name": "python"
    },
    "accelerator": "GPU"
  },
  "cells": [
    {
      "cell_type": "code",
      "execution_count": null,
      "metadata": {
        "id": "8ITHQD8CEqwC"
      },
      "outputs": [],
      "source": [
        "from tensorflow.keras.applications import ResNet50"
      ]
    },
    {
      "cell_type": "code",
      "source": [
        "import matplotlib.pyplot as plt\n",
        "import numpy as np\n",
        "import os\n",
        "import pathlib\n",
        "import PIL\n",
        "import tensorflow as tf\n",
        "from tensorflow import keras\n",
        "from tensorflow.keras import layers\n",
        "from tensorflow.python.keras.layers import Dense, Flatten\n",
        "from tensorflow.keras.models import Sequential\n",
        "from tensorflow.keras.optimizers import Adam"
      ],
      "metadata": {
        "id": "gaRGoShFq6AQ"
      },
      "execution_count": null,
      "outputs": []
    },
    {
      "cell_type": "code",
      "source": [
        "pip install split-folders tqdm"
      ],
      "metadata": {
        "id": "laj6APkBTHje"
      },
      "execution_count": null,
      "outputs": []
    },
    {
      "cell_type": "code",
      "source": [
        "!unzip /content/drive/MyDrive/SimulatedData.zip -d /content/final_data"
      ],
      "metadata": {
        "id": "STi4IJ1YqSWY"
      },
      "execution_count": null,
      "outputs": []
    },
    {
      "cell_type": "code",
      "source": [
        "import splitfolders\n",
        "splitfolders.ratio('/content/final_data/SimulatedData', output=\"output\", seed=1337, ratio=(0.8, 0.1, 0.1)) "
      ],
      "metadata": {
        "id": "PdSbZM5uTFhg",
        "colab": {
          "base_uri": "https://localhost:8080/"
        },
        "outputId": "de6e2395-4152-4dca-f92e-39e27454b6e3"
      },
      "execution_count": null,
      "outputs": [
        {
          "output_type": "stream",
          "name": "stderr",
          "text": [
            "Copying files: 100913 files [00:13, 7305.26 files/s]\n"
          ]
        }
      ]
    },
    {
      "cell_type": "code",
      "source": [
        "basetrain_dir = '/content/output/train/'\n",
        "training_dir = pathlib.Path(basetrain_dir)\n",
        "baseval_dir = '/content/output/val/'\n",
        "validation_dir = pathlib.Path(baseval_dir)\n",
        "basetest_dir = '/content/output/test/'\n",
        "test_dir = pathlib.Path(basetest_dir)"
      ],
      "metadata": {
        "id": "NoMAkg7qrXNs"
      },
      "execution_count": null,
      "outputs": []
    },
    {
      "cell_type": "code",
      "source": [
        "batch_size = 32\n",
        "img_height = 256\n",
        "img_width = 256"
      ],
      "metadata": {
        "id": "nwhKtnxmrwoS"
      },
      "execution_count": null,
      "outputs": []
    },
    {
      "cell_type": "code",
      "source": [
        "from keras.preprocessing.image import ImageDataGenerator\n",
        "data_aug = ImageDataGenerator(rescale=1./255, horizontal_flip=True, width_shift_range = 0.1, height_shift_range = 0.1, \tshear_range=1.2, zoom_range=0.25, rotation_range=360)"
      ],
      "metadata": {
        "id": "CiWO_UeJL0np"
      },
      "execution_count": null,
      "outputs": []
    },
    {
      "cell_type": "code",
      "source": [
        "test_gen = ImageDataGenerator(rescale=1./255)"
      ],
      "metadata": {
        "id": "u5mTQ-NQWF1M"
      },
      "execution_count": null,
      "outputs": []
    },
    {
      "cell_type": "code",
      "source": [
        "train_ds = data_aug.flow_from_directory(\n",
        "\ttraining_dir,  \n",
        "\ttarget_size=(img_height, img_width),  \n",
        "\tbatch_size = batch_size,\n",
        "\tclass_mode='binary')"
      ],
      "metadata": {
        "id": "m1ZVz_ksM0xn",
        "colab": {
          "base_uri": "https://localhost:8080/"
        },
        "outputId": "2ab4a4e2-ea97-49fe-a154-dba8b3833838"
      },
      "execution_count": null,
      "outputs": [
        {
          "output_type": "stream",
          "name": "stdout",
          "text": [
            "Found 80730 images belonging to 2 classes.\n"
          ]
        }
      ]
    },
    {
      "cell_type": "code",
      "source": [
        "validation_ds = test_gen.flow_from_directory(\n",
        "\tvalidation_dir,\n",
        "\ttarget_size=(img_height, img_width),\n",
        "\tbatch_size = batch_size,\n",
        "\tclass_mode='binary')"
      ],
      "metadata": {
        "id": "ytmWFkh7sNFi",
        "colab": {
          "base_uri": "https://localhost:8080/"
        },
        "outputId": "db598294-278b-499d-bd7b-4d862dcfbbe6"
      },
      "execution_count": null,
      "outputs": [
        {
          "output_type": "stream",
          "name": "stdout",
          "text": [
            "Found 10090 images belonging to 2 classes.\n"
          ]
        }
      ]
    },
    {
      "cell_type": "code",
      "source": [
        "confirmation_generator = test_gen.flow_from_directory(\n",
        "  test_dir,\n",
        "\ttarget_size = (img_height, img_width),\n",
        "\tbatch_size = batch_size,\n",
        "\tclass_mode=None,\n",
        "\tshuffle=False)"
      ],
      "metadata": {
        "id": "I71DSwyAWPxH",
        "colab": {
          "base_uri": "https://localhost:8080/"
        },
        "outputId": "d1804465-2715-4a01-d298-5f4a9a5dfc24"
      },
      "execution_count": null,
      "outputs": [
        {
          "output_type": "stream",
          "name": "stdout",
          "text": [
            "Found 10093 images belonging to 2 classes.\n"
          ]
        }
      ]
    },
    {
      "cell_type": "markdown",
      "source": [
        "Model"
      ],
      "metadata": {
        "id": "LHZKP0ACstwC"
      }
    },
    {
      "cell_type": "code",
      "source": [
        "sim_model = Sequential()\n",
        "\n",
        "ResNet_50 = ResNet50(include_top = False, \n",
        "                     weights = None,\n",
        "                     input_shape = (256, 256, 3),\n",
        "                     pooling = 'max',\n",
        "                     classes = 2)\n",
        "\n",
        "ResNet_50.trainable = True\n",
        "ResNet_50 = add_regularization(ResNet_50)\n",
        "\n",
        "sim_model.add(ResNet_50)\n",
        "sim_model.add(Flatten())\n",
        "sim_model.add(Dense(512, activation = 'relu'))\n",
        "sim_model.add(Dense(1, activation = 'sigmoid'))"
      ],
      "metadata": {
        "id": "q1GS1Zk0njSm",
        "colab": {
          "base_uri": "https://localhost:8080/"
        },
        "outputId": "a074dade-759d-43b5-a082-d8d690bafcea"
      },
      "execution_count": null,
      "outputs": [
        {
          "output_type": "stream",
          "name": "stderr",
          "text": [
            "/usr/local/lib/python3.7/dist-packages/keras/engine/functional.py:1410: CustomMaskWarning: Custom mask layers require a config and must override get_config. When loading, the custom mask layer must be passed to the custom_objects argument.\n",
            "  layer_config = serialize_layer_fn(layer)\n"
          ]
        }
      ]
    },
    {
      "cell_type": "code",
      "source": [
        "import os\n",
        "import tempfile\n",
        "\n",
        "def add_regularization(model, regularizer=tf.keras.regularizers.l2(0.0001)):\n",
        "\n",
        "    if not isinstance(regularizer, tf.keras.regularizers.Regularizer):\n",
        "      print(\"Regularizer must be a subclass of tf.keras.regularizers.Regularizer\")\n",
        "      return model\n",
        "\n",
        "    for layer in model.layers:\n",
        "        for attr in ['kernel_regularizer']:\n",
        "            if hasattr(layer, attr):\n",
        "              setattr(layer, attr, regularizer)\n",
        "\n",
        "    # When we change the layers attributes, the change only happens in the model config file\n",
        "    model_json = model.to_json()\n",
        "\n",
        "    # Save the weights before reloading the model.\n",
        "    tmp_weights_path = os.path.join(tempfile.gettempdir(), 'tmp_weights.h5')\n",
        "    model.save_weights(tmp_weights_path)\n",
        "\n",
        "    # load the model from the config\n",
        "    model = tf.keras.models.model_from_json(model_json)\n",
        "    \n",
        "    # Reload the model weights\n",
        "    model.load_weights(tmp_weights_path, by_name=True)\n",
        "    return model"
      ],
      "metadata": {
        "id": "Ul1-rFuUytYj"
      },
      "execution_count": null,
      "outputs": []
    },
    {
      "cell_type": "code",
      "source": [
        "sim_model.summary()"
      ],
      "metadata": {
        "colab": {
          "base_uri": "https://localhost:8080/"
        },
        "id": "5yEd-IsCt4Om",
        "outputId": "d3be8fba-b6ed-4eb3-d08c-f153bb14b155"
      },
      "execution_count": null,
      "outputs": [
        {
          "output_type": "stream",
          "name": "stdout",
          "text": [
            "Model: \"sequential_1\"\n",
            "_________________________________________________________________\n",
            " Layer (type)                Output Shape              Param #   \n",
            "=================================================================\n",
            " resnet50 (Functional)       (None, 2048)              23587712  \n",
            "                                                                 \n",
            " module_wrapper_3 (ModuleWra  (None, 2048)             0         \n",
            " pper)                                                           \n",
            "                                                                 \n",
            " module_wrapper_4 (ModuleWra  (None, 512)              1049088   \n",
            " pper)                                                           \n",
            "                                                                 \n",
            " module_wrapper_5 (ModuleWra  (None, 1)                513       \n",
            " pper)                                                           \n",
            "                                                                 \n",
            "=================================================================\n",
            "Total params: 24,637,313\n",
            "Trainable params: 24,584,193\n",
            "Non-trainable params: 53,120\n",
            "_________________________________________________________________\n"
          ]
        }
      ]
    },
    {
      "cell_type": "code",
      "source": [
        "sim_model.compile(optimizer = Adam(learning_rate = 0.0001), loss = 'binary_crossentropy', metrics = ['accuracy'])"
      ],
      "metadata": {
        "id": "S2XggNeMuAFn"
      },
      "execution_count": null,
      "outputs": []
    },
    {
      "cell_type": "code",
      "source": [
        "epochs = 11\n",
        "history = sim_model.fit(\n",
        "    train_ds,\n",
        "    validation_data = validation_ds,\n",
        "    epochs = epochs\n",
        ")"
      ],
      "metadata": {
        "id": "FJUMZn-YuOq1",
        "colab": {
          "base_uri": "https://localhost:8080/"
        },
        "outputId": "5441185b-9611-47ff-c413-c9385e97f1b9"
      },
      "execution_count": null,
      "outputs": [
        {
          "output_type": "stream",
          "name": "stdout",
          "text": [
            "Epoch 1/11\n",
            "2523/2523 [==============================] - 1299s 512ms/step - loss: 1.8642 - accuracy: 0.9790 - val_loss: 2.1360 - val_accuracy: 0.9405\n",
            "Epoch 2/11\n",
            "2523/2523 [==============================] - 1294s 513ms/step - loss: 1.6245 - accuracy: 0.9964 - val_loss: 5.6161 - val_accuracy: 0.6335\n",
            "Epoch 3/11\n",
            "2523/2523 [==============================] - 1284s 509ms/step - loss: 1.2519 - accuracy: 0.9973 - val_loss: 35.5136 - val_accuracy: 0.5302\n",
            "Epoch 4/11\n",
            "2523/2523 [==============================] - 1282s 508ms/step - loss: 0.7798 - accuracy: 0.9971 - val_loss: 0.6390 - val_accuracy: 0.9828\n",
            "Epoch 5/11\n",
            "2523/2523 [==============================] - 1284s 509ms/step - loss: 0.4468 - accuracy: 0.9979 - val_loss: 0.3525 - val_accuracy: 0.9982\n",
            "Epoch 6/11\n",
            "2523/2523 [==============================] - 1282s 508ms/step - loss: 0.2859 - accuracy: 0.9989 - val_loss: 0.2354 - val_accuracy: 0.9991\n",
            "Epoch 7/11\n",
            "2523/2523 [==============================] - 1284s 509ms/step - loss: 0.2071 - accuracy: 0.9990 - val_loss: 0.1744 - val_accuracy: 0.9998\n",
            "Epoch 8/11\n",
            "2523/2523 [==============================] - 1285s 509ms/step - loss: 0.1615 - accuracy: 0.9990 - val_loss: 0.1572 - val_accuracy: 0.9986\n",
            "Epoch 9/11\n",
            "2523/2523 [==============================] - 1286s 510ms/step - loss: 0.1322 - accuracy: 0.9993 - val_loss: 0.1134 - val_accuracy: 0.9999\n",
            "Epoch 10/11\n",
            "2523/2523 [==============================] - 1289s 511ms/step - loss: 0.1158 - accuracy: 0.9989 - val_loss: 0.1017 - val_accuracy: 0.9992\n",
            "Epoch 11/11\n",
            "2523/2523 [==============================] - 1293s 513ms/step - loss: 0.0993 - accuracy: 0.9991 - val_loss: 0.2445 - val_accuracy: 0.9610\n"
          ]
        }
      ]
    },
    {
      "cell_type": "markdown",
      "source": [
        "Evaluation"
      ],
      "metadata": {
        "id": "fRMjiDLssc1q"
      }
    },
    {
      "cell_type": "code",
      "source": [
        "\n",
        "import matplotlib as mpl\n",
        "import matplotlib.pyplot as plt\n",
        "import numpy as np\n",
        "from pylab import cm\n",
        "import matplotlib.font_manager as fm\n",
        "\n",
        "#accuracy\n",
        "plt.rcParams['font.size'] = 15\n",
        "plt.rcParams['axes.linewidth'] = 2\n",
        "colors = cm.get_cmap('tab10', 2)\n",
        "fig = plt.figure(figsize=(4.5, 3))\n",
        "ax = fig.add_axes([0, 0, 1, 1])\n",
        "ax.xaxis.set_tick_params(which='major', size=10, width=2, direction='in')\n",
        "ax.yaxis.set_tick_params(which='major', size=10, width=2, direction='in')\n",
        "ax.plot([0.9790, 0.9964, 0.9973, 0.9971, 0.9979, 0.9989, 0.9990, 0.9990, 0.9993, 0.9989, 0.9991], color = colors(0), linewidth = 2)\n",
        "ax.plot([0.9405, 0.6335, 0.5302, 0.9828, 0.9982, 0.9991, 0.9998, 0.9986, 0.9999, 0.9992, 0.9610], color = colors(1), linewidth = 2)\n",
        "ax.set_ylim(0.93, 1.0009)\n",
        "ax.set_xlim(0, 10)\n",
        "plt.title('Model Accuracy')\n",
        "plt.ylabel('Accuracy')\n",
        "plt.xlabel('Epoch')\n",
        "plt.legend(['Train', 'Test'], loc='lower right')\n",
        "plt.show()\n",
        "\n",
        "#loss\n",
        "plt.rcParams['font.size'] = 15\n",
        "plt.rcParams['axes.linewidth'] = 2\n",
        "colors = cm.get_cmap('tab10', 2)\n",
        "fig = plt.figure(figsize=(4.5, 3))\n",
        "ax = fig.add_axes([0, 0, 1, 1])\n",
        "ax.xaxis.set_tick_params(which='major', size=10, width=2, direction='in')\n",
        "ax.yaxis.set_tick_params(which='major', size=10, width=2, direction='in')\n",
        "ax.plot([1.8642, 1.6245, 1.2519, 0.7798, 0.4468, 0.2859, 0.2071, 0.1615, 0.1322, 0.1158, 0.0993], color = colors(0), linewidth = 2)\n",
        "ax.plot([2.1360, 5.6161, 35.5136, 0.6390, 0.3525, 0.2354, 0.1744, 0.1572, 0.1134, 0.1017, 0.2445], color = colors(1), linewidth = 2)\n",
        "ax.set_ylim(-0.1, 2)\n",
        "ax.set_xlim(0, 10)\n",
        "plt.title('Model Loss')\n",
        "plt.ylabel('Loss')\n",
        "plt.xlabel('Epoch')\n",
        "plt.legend(['Train', 'Test'], loc='upper right')\n",
        "plt.show()"
      ],
      "metadata": {
        "colab": {
          "base_uri": "https://localhost:8080/",
          "height": 591
        },
        "id": "_pXrtwA7rM0i",
        "outputId": "ea8fc1e2-a4d2-4775-c39b-670c8165308b"
      },
      "execution_count": null,
      "outputs": [
        {
          "output_type": "display_data",
          "data": {
            "image/png": "[encoded data removed]",
            "text/plain": [
              "<Figure size 324x216 with 1 Axes>"
            ]
          },
          "metadata": {
            "needs_background": "light"
          }
        },
        {
          "output_type": "display_data",
          "data": {
            "image/png": "[encoded data removed]",
            "text/plain": [
              "<Figure size 324x216 with 1 Axes>"
            ]
          },
          "metadata": {
            "needs_background": "light"
          }
        }
      ]
    },
    {
      "cell_type": "code",
      "source": [
        "def get_predictions(generator,model):\n",
        "\ttest_steps_per_epoch = np.math.ceil(generator.samples / generator.batch_size)\n",
        "\tpredictions = model.predict_generator(generator, steps=test_steps_per_epoch)\n",
        "\tpredictions = [i[0] for i in predictions]\n",
        "\tpredictions = np.array(predictions)\n",
        "\treturn predictions\n",
        "\n",
        "\n",
        "def prediction_report(predictions,generator,cutoff,chatter=False):\n",
        "\tpredicted_classes = np.copy(predictions)\n",
        "\tpredicted_classes[predicted_classes>cutoff] = 1.0\n",
        "\tpredicted_classes[predicted_classes<cutoff] = 0.0 \n",
        "\ttrue_classes = generator.classes\n",
        "\tN_ring = len(np.where(true_classes>0.5)[0])\n",
        "\tN_normal = len(np.where(true_classes<0.5)[0])\n",
        "\ttn, fp, fn, tp = confusion_matrix(true_classes,predicted_classes).ravel()\n",
        "\tmatrix = confusion_matrix(true_classes,predicted_classes)\n",
        "\tif chatter:\n",
        "\t\tprint('True Normal predictions: {} | ({} percent)'.format(tn,(tn * 100)/N_normal))\n",
        "\t\tprint('True Ring predictions: {} | ({} percent)'.format(tp,(tp * 100)/N_ring))\n",
        "\t\tprint('False Normal predictions (actually Ring): {} | ({} percent)'.format(fn,(fn * 100)/N_ring))\n",
        "\t\tprint('False Ring predictions (actually Normal): {} | ({} percent)'.format(fp,(fp * 100)/N_normal))\n",
        "\treturn(tn, fp, fn, tp)\n",
        "\n",
        "def MCC(theta):\n",
        "\ttn, fp, fn, tp = theta\n",
        "\tnumerator = (tp*tn) - (fp*fn)\n",
        "\tdenomenator = np.sqrt((tp+fp)*(tp+fn)*(tn+fp)*(tn+fn))\n",
        "\tMCC = numerator / denomenator\n",
        "\treturn MCC\n",
        "\n",
        "def AUC(predictions,generator):\n",
        "\tthresholds = np.linspace(0.0,1,20)\n",
        "\ttprs = []\n",
        "\tfprs = []\n",
        "\tfor i in thresholds:\n",
        "\t\ttn, fp, fn, tp = prediction_report(predictions,generator,cutoff=i,chatter=False)\n",
        "\t\tTPR = tp / (fn+tp)\n",
        "\t\tFPR = fp / (fp+tn)\n",
        "\t\ttprs.append(TPR)\n",
        "\t\tfprs.append(FPR)\n",
        "\ttprs = np.array(tprs)[::-1]\n",
        "\tfprs = np.array(fprs)[::-1]\n",
        "\tplt.plot(fprs,tprs)\n",
        "\tplt.plot([0,1],[0,1],'k')\n",
        "\tarea = np.trapz(tprs,x=fprs)\n",
        "\tprint(\"Area under the curve: {}\".format(area))\n",
        "\treturn area\n"
      ],
      "metadata": {
        "id": "snWGtltXtvMp"
      },
      "execution_count": null,
      "outputs": []
    },
    {
      "cell_type": "code",
      "source": [
        "from sklearn.metrics import confusion_matrix\n",
        "predictions = get_predictions(confirmation_generator,sim_model)\n",
        "theta = prediction_report(predictions,confirmation_generator,cutoff=0.5,chatter=True)\n",
        "mcc = MCC(theta)\n",
        "print('MCC: ',mcc)\n",
        "area_under_curve = AUC(predictions,confirmation_generator)\n",
        "#print(area_under_curve)"
      ],
      "metadata": {
        "colab": {
          "base_uri": "https://localhost:8080/",
          "height": 424
        },
        "id": "uOfUenppvQbJ",
        "outputId": "f1a3290e-eefc-46ca-b082-33ae8401791c"
      },
      "execution_count": null,
      "outputs": [
        {
          "output_type": "stream",
          "name": "stderr",
          "text": [
            "/usr/local/lib/python3.7/dist-packages/ipykernel_launcher.py:3: UserWarning: `Model.predict_generator` is deprecated and will be removed in a future version. Please use `Model.predict`, which supports generators.\n",
            "  This is separate from the ipykernel package so we can avoid doing imports until\n"
          ]
        },
        {
          "output_type": "stream",
          "name": "stdout",
          "text": [
            "True Normal predictions: 5094 | (100.0 percent)\n",
            "True Ring predictions: 4564 | (91.29825965193038 percent)\n",
            "False Normal predictions (actually Ring): 435 | (8.701740348069613 percent)\n",
            "False Ring predictions (actually Normal): 0 | (0.0 percent)\n",
            "MCC:  0.9171437795490888\n",
            "Area under the curve: 0.9813962792558512\n"
          ]
        },
        {
          "output_type": "display_data",
          "data": {
            "image/png": "[encoded data removed]",
            "text/plain": [
              "<Figure size 432x288 with 1 Axes>"
            ]
          },
          "metadata": {
            "needs_background": "light"
          }
        }
      ]
    },
    {
      "cell_type": "code",
      "source": [
        "sim_model.save(\"RingNetSim\")"
      ],
      "metadata": {
        "colab": {
          "base_uri": "https://localhost:8080/"
        },
        "id": "LbcWEdwmq5_T",
        "outputId": "78519a18-86a7-4af4-e8b0-0a6a7e251c81"
      },
      "execution_count": null,
      "outputs": [
        {
          "output_type": "stream",
          "name": "stderr",
          "text": [
            "WARNING:absl:Found untraced functions such as flatten_2_layer_call_and_return_conditional_losses, flatten_2_layer_call_fn, dense_4_layer_call_and_return_conditional_losses, dense_4_layer_call_fn, dense_5_layer_call_and_return_conditional_losses while saving (showing 5 of 15). These functions will not be directly callable after loading.\n"
          ]
        },
        {
          "output_type": "stream",
          "name": "stdout",
          "text": [
            "INFO:tensorflow:Assets written to: RingNetSim/assets\n"
          ]
        },
        {
          "output_type": "stream",
          "name": "stderr",
          "text": [
            "INFO:tensorflow:Assets written to: RingNetSim/assets\n",
            "/usr/local/lib/python3.7/dist-packages/keras/engine/functional.py:1410: CustomMaskWarning: Custom mask layers require a config and must override get_config. When loading, the custom mask layer must be passed to the custom_objects argument.\n",
            "  layer_config = serialize_layer_fn(layer)\n",
            "/usr/local/lib/python3.7/dist-packages/keras/saving/saved_model/layer_serialization.py:112: CustomMaskWarning: Custom mask layers require a config and must override get_config. When loading, the custom mask layer must be passed to the custom_objects argument.\n",
            "  return generic_utils.serialize_keras_object(obj)\n"
          ]
        }
      ]
    }
  ]
}
