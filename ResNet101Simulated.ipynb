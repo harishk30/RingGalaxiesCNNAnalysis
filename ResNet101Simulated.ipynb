{
  "nbformat": 4,
  "nbformat_minor": 0,
  "metadata": {
    "colab": {
      "name": "ResNet101Simulated.ipynb",
      "provenance": [],
      "collapsed_sections": [],
      "background_execution": "on",
      "mount_file_id": "1tuRn8WMapUyvhNO_D7-icfCEnk933ufy",
      "authorship_tag": "ABX9TyNgPJaDtaxqqbNF94wtEL7s"
    },
    "kernelspec": {
      "name": "python3",
      "display_name": "Python 3"
    },
    "language_info": {
      "name": "python"
    },
    "accelerator": "GPU"
  },
  "cells": [
    {
      "cell_type": "code",
      "execution_count": null,
      "metadata": {
        "id": "8ITHQD8CEqwC"
      },
      "outputs": [],
      "source": [
        "#Import TensorFlow preloaded ResNet 101 model\n",
        "from tensorflow.keras.applications import ResNet101"
      ]
    },
    {
      "cell_type": "code",
      "source": [
        "#Imports\n",
        "import matplotlib.pyplot as plt\n",
        "import numpy as np\n",
        "import os\n",
        "import pathlib\n",
        "import PIL\n",
        "import tensorflow as tf\n",
        "from tensorflow import keras\n",
        "from tensorflow.keras import layers\n",
        "from tensorflow.python.keras.layers import Dense, Flatten\n",
        "from tensorflow.keras.models import Sequential\n",
        "from tensorflow.keras.optimizers import Adam"
      ],
      "metadata": {
        "id": "gaRGoShFq6AQ"
      },
      "execution_count": null,
      "outputs": []
    },
    {
      "cell_type": "code",
      "source": [
        "pip install split-folders tqdm"
      ],
      "metadata": {
        "colab": {
          "base_uri": "https://localhost:8080/"
        },
        "id": "laj6APkBTHje",
        "outputId": "91a06cc8-2bc1-4b82-a814-ec55d54139a5"
      },
      "execution_count": null,
      "outputs": [
        {
          "output_type": "stream",
          "name": "stdout",
          "text": [
            "Collecting split-folders\n",
            "  Downloading split_folders-0.4.3-py3-none-any.whl (7.4 kB)\n",
            "Requirement already satisfied: tqdm in /usr/local/lib/python3.7/dist-packages (4.62.3)\n",
            "Installing collected packages: split-folders\n",
            "Successfully installed split-folders-0.4.3\n"
          ]
        }
      ]
    },
    {
      "cell_type": "code",
      "source": [
        "!unzip /content/drive/MyDrive/SimulatedData.zip -d /content/final_data"
      ],
      "metadata": {
        "id": "STi4IJ1YqSWY"
      },
      "execution_count": null,
      "outputs": []
    },
    {
      "cell_type": "code",
      "source": [
        "#Split into train & test and validation\n",
        "import splitfolders\n",
        "splitfolders.ratio('/content/final_data/SimulatedData', output=\"output\", seed=1337, ratio=(0.8, 0.1, 0.1)) "
      ],
      "metadata": {
        "id": "PdSbZM5uTFhg",
        "colab": {
          "base_uri": "https://localhost:8080/"
        },
        "outputId": "6b2b81db-9837-46ac-c308-81925de48c18"
      },
      "execution_count": null,
      "outputs": [
        {
          "output_type": "stream",
          "name": "stderr",
          "text": [
            "Copying files: 100913 files [00:35, 2847.48 files/s]\n"
          ]
        }
      ]
    },
    {
      "cell_type": "code",
      "source": [
        "basetrain_dir = '/content/output/train/'\n",
        "training_dir = pathlib.Path(basetrain_dir)\n",
        "baseval_dir = '/content/output/val/'\n",
        "validation_dir = pathlib.Path(baseval_dir)\n",
        "basetest_dir = '/content/output/test/'\n",
        "test_dir = pathlib.Path(basetest_dir)"
      ],
      "metadata": {
        "id": "NoMAkg7qrXNs"
      },
      "execution_count": null,
      "outputs": []
    },
    {
      "cell_type": "code",
      "source": [
        "#Set batch size, image height and image width\n",
        "batch_size = 32\n",
        "img_height = 256\n",
        "img_width = 256"
      ],
      "metadata": {
        "id": "nwhKtnxmrwoS"
      },
      "execution_count": null,
      "outputs": []
    },
    {
      "cell_type": "code",
      "source": [
        "#Create image data generator to augment images\n",
        "from keras.preprocessing.image import ImageDataGenerator\n",
        "data_aug = ImageDataGenerator(rescale=1./255, horizontal_flip=True, width_shift_range = 0.1, height_shift_range = 0.1, \tshear_range=1.2, zoom_range=0.25, rotation_range=360)"
      ],
      "metadata": {
        "id": "CiWO_UeJL0np"
      },
      "execution_count": null,
      "outputs": []
    },
    {
      "cell_type": "code",
      "source": [
        "test_gen = ImageDataGenerator(rescale=1./255)"
      ],
      "metadata": {
        "id": "u5mTQ-NQWF1M"
      },
      "execution_count": null,
      "outputs": []
    },
    {
      "cell_type": "code",
      "source": [
        "#Create train, validation, confirmation image data generators\n",
        "train_ds = data_aug.flow_from_directory(\n",
        "\ttraining_dir,  \n",
        "\ttarget_size=(img_height, img_width),  \n",
        "\tbatch_size = batch_size,\n",
        "\tclass_mode='binary')"
      ],
      "metadata": {
        "id": "m1ZVz_ksM0xn",
        "colab": {
          "base_uri": "https://localhost:8080/"
        },
        "outputId": "3c6e86d2-fe28-4615-e837-f770d5ee1145"
      },
      "execution_count": null,
      "outputs": [
        {
          "output_type": "stream",
          "name": "stdout",
          "text": [
            "Found 80730 images belonging to 2 classes.\n"
          ]
        }
      ]
    },
    {
      "cell_type": "code",
      "source": [
        "validation_ds = test_gen.flow_from_directory(\n",
        "\tvalidation_dir,\n",
        "\ttarget_size=(img_height, img_width),\n",
        "\tbatch_size = batch_size,\n",
        "\tclass_mode='binary')"
      ],
      "metadata": {
        "id": "ytmWFkh7sNFi",
        "colab": {
          "base_uri": "https://localhost:8080/"
        },
        "outputId": "9b1cdfea-a7b2-4271-f2fe-3e3153a71ddc"
      },
      "execution_count": null,
      "outputs": [
        {
          "output_type": "stream",
          "name": "stdout",
          "text": [
            "Found 10090 images belonging to 2 classes.\n"
          ]
        }
      ]
    },
    {
      "cell_type": "code",
      "source": [
        "confirmation_generator = test_gen.flow_from_directory(\n",
        "  test_dir,\n",
        "\ttarget_size = (img_height, img_width),\n",
        "\tbatch_size = batch_size,\n",
        "\tclass_mode=None,\n",
        "\tshuffle=False)"
      ],
      "metadata": {
        "id": "I71DSwyAWPxH",
        "colab": {
          "base_uri": "https://localhost:8080/"
        },
        "outputId": "fe2db960-52d1-409f-977f-8a3ccaf25033"
      },
      "execution_count": null,
      "outputs": [
        {
          "output_type": "stream",
          "name": "stdout",
          "text": [
            "Found 10093 images belonging to 2 classes.\n"
          ]
        }
      ]
    },
    {
      "cell_type": "markdown",
      "source": [
        "Model"
      ],
      "metadata": {
        "id": "LHZKP0ACstwC"
      }
    },
    {
      "cell_type": "code",
      "source": [
        "#Construct model from pre-imported model without ImageNet weights\n",
        "sim_model = Sequential()\n",
        "\n",
        "ResNet_101 = ResNet101(include_top = False, \n",
        "                     weights = None,\n",
        "                     input_shape = (256, 256, 3),\n",
        "                     pooling = 'max',\n",
        "                     classes = 2)\n",
        "#Set it to be trainable & add regularization\n",
        "ResNet_101.trainable = True\n",
        "ResNet_101 = add_regularization(ResNet_101)\n",
        "#Add output layers to model\n",
        "sim_model.add(ResNet_101)\n",
        "sim_model.add(Flatten())\n",
        "sim_model.add(Dense(512, activation = 'relu'))\n",
        "sim_model.add(Dense(1, activation = 'sigmoid'))"
      ],
      "metadata": {
        "id": "q1GS1Zk0njSm",
        "colab": {
          "base_uri": "https://localhost:8080/"
        },
        "outputId": "2a85d5a4-4a95-4d1d-f300-1ca58b321721"
      },
      "execution_count": null,
      "outputs": [
        {
          "output_type": "stream",
          "name": "stderr",
          "text": [
            "/usr/local/lib/python3.7/dist-packages/keras/engine/functional.py:1410: CustomMaskWarning: Custom mask layers require a config and must override get_config. When loading, the custom mask layer must be passed to the custom_objects argument.\n",
            "  layer_config = serialize_layer_fn(layer)\n"
          ]
        }
      ]
    },
    {
      "cell_type": "code",
      "source": [
        "import os\n",
        "import tempfile\n",
        "#Regularization code modified from: https://sthalles.github.io/keras-regularizer/\n",
        "def add_regularization(model, regularizer=tf.keras.regularizers.l2(0.0001)):\n",
        "\n",
        "    if not isinstance(regularizer, tf.keras.regularizers.Regularizer):\n",
        "      print(\"Regularizer must be a subclass of tf.keras.regularizers.Regularizer\")\n",
        "      return model\n",
        "\n",
        "    for layer in model.layers:\n",
        "        for attr in ['kernel_regularizer']:\n",
        "            if hasattr(layer, attr):\n",
        "              setattr(layer, attr, regularizer)\n",
        "\n",
        "    # When we change the layers attributes, the change only happens in the model config file\n",
        "    model_json = model.to_json()\n",
        "\n",
        "    # Save the weights before reloading the model.\n",
        "    tmp_weights_path = os.path.join(tempfile.gettempdir(), 'tmp_weights.h5')\n",
        "    model.save_weights(tmp_weights_path)\n",
        "\n",
        "    # load the model from the config\n",
        "    model = tf.keras.models.model_from_json(model_json)\n",
        "    \n",
        "    # Reload the model weights\n",
        "    model.load_weights(tmp_weights_path, by_name=True)\n",
        "    return model"
      ],
      "metadata": {
        "id": "Ul1-rFuUytYj"
      },
      "execution_count": null,
      "outputs": []
    },
    {
      "cell_type": "code",
      "source": [
        "sim_model.summary()"
      ],
      "metadata": {
        "colab": {
          "base_uri": "https://localhost:8080/"
        },
        "id": "5yEd-IsCt4Om",
        "outputId": "cde2302f-d8a5-41e6-e48a-f64196faec55"
      },
      "execution_count": null,
      "outputs": [
        {
          "output_type": "stream",
          "name": "stdout",
          "text": [
            "Model: \"sequential\"\n",
            "_________________________________________________________________\n",
            " Layer (type)                Output Shape              Param #   \n",
            "=================================================================\n",
            " resnet101 (Functional)      (None, 2048)              42658176  \n",
            "                                                                 \n",
            " module_wrapper (ModuleWrapp  (None, 2048)             0         \n",
            " er)                                                             \n",
            "                                                                 \n",
            " module_wrapper_1 (ModuleWra  (None, 512)              1049088   \n",
            " pper)                                                           \n",
            "                                                                 \n",
            " module_wrapper_2 (ModuleWra  (None, 1)                513       \n",
            " pper)                                                           \n",
            "                                                                 \n",
            "=================================================================\n",
            "Total params: 43,707,777\n",
            "Trainable params: 43,602,433\n",
            "Non-trainable params: 105,344\n",
            "_________________________________________________________________\n"
          ]
        }
      ]
    },
    {
      "cell_type": "code",
      "source": [
        "#Compile model\n",
        "sim_model.compile(optimizer = Adam(learning_rate = 0.0001), loss = 'binary_crossentropy', metrics = ['accuracy'])"
      ],
      "metadata": {
        "id": "S2XggNeMuAFn"
      },
      "execution_count": null,
      "outputs": []
    },
    {
      "cell_type": "code",
      "source": [
        "#Train model\n",
        "epochs = 11\n",
        "history = sim_model.fit(\n",
        "    train_ds,\n",
        "    validation_data = validation_ds,\n",
        "    epochs = epochs\n",
        ")"
      ],
      "metadata": {
        "id": "FJUMZn-YuOq1",
        "colab": {
          "base_uri": "https://localhost:8080/"
        },
        "outputId": "eb063aac-21cd-4ecf-daad-d1861f367903"
      },
      "execution_count": null,
      "outputs": [
        {
          "output_type": "stream",
          "name": "stdout",
          "text": [
            "Epoch 1/11\n",
            "2523/2523 [==============================] - 1473s 575ms/step - loss: 3.6704 - accuracy: 0.9739 - val_loss: 3.4673 - val_accuracy: 0.9984\n",
            "Epoch 2/11\n",
            "2523/2523 [==============================] - 1451s 575ms/step - loss: 3.2319 - accuracy: 0.9962 - val_loss: 2.8945 - val_accuracy: 0.9982\n",
            "Epoch 3/11\n",
            "2523/2523 [==============================] - 1441s 571ms/step - loss: 2.4013 - accuracy: 0.9979 - val_loss: 3.6136 - val_accuracy: 0.5470\n",
            "Epoch 4/11\n",
            "2523/2523 [==============================] - 1429s 566ms/step - loss: 1.3273 - accuracy: 0.9964 - val_loss: 1.0340 - val_accuracy: 0.9414\n",
            "Epoch 5/11\n",
            "2523/2523 [==============================] - 1430s 567ms/step - loss: 0.6532 - accuracy: 0.9984 - val_loss: 0.4546 - val_accuracy: 0.9991\n",
            "Epoch 6/11\n",
            "2523/2523 [==============================] - 1427s 566ms/step - loss: 0.3625 - accuracy: 0.9986 - val_loss: 0.2781 - val_accuracy: 0.9986\n",
            "Epoch 7/11\n",
            "2523/2523 [==============================] - 1432s 567ms/step - loss: 0.2513 - accuracy: 0.9983 - val_loss: 0.2039 - val_accuracy: 0.9997\n",
            "Epoch 8/11\n",
            "2523/2523 [==============================] - 1428s 566ms/step - loss: 0.2288 - accuracy: 0.9983 - val_loss: 0.1899 - val_accuracy: 0.9998\n",
            "Epoch 9/11\n",
            "2523/2523 [==============================] - 1435s 569ms/step - loss: 0.1704 - accuracy: 0.9991 - val_loss: 0.1478 - val_accuracy: 0.9997\n",
            "Epoch 10/11\n",
            "2523/2523 [==============================] - 1435s 569ms/step - loss: 0.1443 - accuracy: 0.9992 - val_loss: 0.1322 - val_accuracy: 0.9965\n",
            "Epoch 11/11\n",
            "2523/2523 [==============================] - 1440s 570ms/step - loss: 0.1234 - accuracy: 0.9986 - val_loss: 0.9167 - val_accuracy: 0.9466\n"
          ]
        }
      ]
    },
    {
      "cell_type": "markdown",
      "source": [
        "Evaluation"
      ],
      "metadata": {
        "id": "fRMjiDLssc1q"
      }
    },
    {
      "cell_type": "code",
      "source": [
        "\n",
        "import matplotlib as mpl\n",
        "import matplotlib.pyplot as plt\n",
        "import numpy as np\n",
        "from pylab import cm\n",
        "import matplotlib.font_manager as fm\n",
        "\n",
        "#accuracy\n",
        "plt.rcParams['font.size'] = 15\n",
        "plt.rcParams['axes.linewidth'] = 2\n",
        "colors = cm.get_cmap('tab10', 2)\n",
        "fig = plt.figure(figsize=(4.5, 3))\n",
        "ax = fig.add_axes([0, 0, 1, 1])\n",
        "ax.xaxis.set_tick_params(which='major', size=10, width=2, direction='in')\n",
        "ax.yaxis.set_tick_params(which='major', size=10, width=2, direction='in')\n",
        "ax.plot(history.history['accuracy'], color = colors(0), linewidth = 2)\n",
        "ax.plot(history.history['val_accuracy'], color = colors(1), linewidth = 2)\n",
        "ax.set_ylim(0.93, 1.0009)\n",
        "ax.set_xlim(0, 10)\n",
        "plt.title('Model Accuracy')\n",
        "plt.ylabel('Accuracy')\n",
        "plt.xlabel('Epoch')\n",
        "plt.legend(['Train', 'Test'], loc='lower right')\n",
        "plt.show()\n",
        "\n",
        "#loss\n",
        "plt.rcParams['font.size'] = 15\n",
        "plt.rcParams['axes.linewidth'] = 2\n",
        "colors = cm.get_cmap('tab10', 2)\n",
        "fig = plt.figure(figsize=(4.5, 3))\n",
        "ax = fig.add_axes([0, 0, 1, 1])\n",
        "ax.xaxis.set_tick_params(which='major', size=10, width=2, direction='in')\n",
        "ax.yaxis.set_tick_params(which='major', size=10, width=2, direction='in')\n",
        "ax.plot(history.history['loss'], color = colors(0), linewidth = 2)\n",
        "ax.plot(history.history['val_loss'], color = colors(1), linewidth = 2)\n",
        "ax.set_ylim(-0.1, 2)\n",
        "ax.set_xlim(0, 10)\n",
        "plt.title('Model Loss')\n",
        "plt.ylabel('Loss')\n",
        "plt.xlabel('Epoch')\n",
        "plt.legend(['Train', 'Test'], loc='upper right')\n",
        "plt.show()"
      ],
      "metadata": {
        "colab": {
          "base_uri": "https://localhost:8080/",
          "height": 591
        },
        "id": "_pXrtwA7rM0i",
        "outputId": "6d050ecd-ee48-4714-be06-27abf4769d5d"
      },
      "execution_count": null,
      "outputs": [
        {
          "output_type": "display_data",
          "data": {
            "image/png": "[encoded data removed]",
            "text/plain": [
              "<Figure size 324x216 with 1 Axes>"
            ]
          },
          "metadata": {
            "needs_background": "light"
          }
        },
        {
          "output_type": "display_data",
          "data": {
            "image/png": "[encoded data removed]",
            "text/plain": [
              "<Figure size 324x216 with 1 Axes>"
            ]
          },
          "metadata": {
            "needs_background": "light"
          }
        }
      ]
    },
    {
      "cell_type": "code",
      "source": [
        "def get_predictions(generator,model):\n",
        "\ttest_steps_per_epoch = np.math.ceil(generator.samples / generator.batch_size)\n",
        "\tpredictions = model.predict_generator(generator, steps=test_steps_per_epoch)\n",
        "\tpredictions = [i[0] for i in predictions]\n",
        "\tpredictions = np.array(predictions)\n",
        "\treturn predictions\n",
        "\n",
        "\n",
        "def prediction_report(predictions,generator,cutoff,chatter=False):\n",
        "\tpredicted_classes = np.copy(predictions)\n",
        "\tpredicted_classes[predicted_classes>cutoff] = 1.0\n",
        "\tpredicted_classes[predicted_classes<cutoff] = 0.0 \n",
        "\ttrue_classes = generator.classes\n",
        "\tN_ring = len(np.where(true_classes>0.5)[0])\n",
        "\tN_normal = len(np.where(true_classes<0.5)[0])\n",
        "\ttn, fp, fn, tp = confusion_matrix(true_classes,predicted_classes).ravel()\n",
        "\tmatrix = confusion_matrix(true_classes,predicted_classes)\n",
        "\tif chatter:\n",
        "\t\tprint('True Normal predictions: {} | ({} percent)'.format(tn,(tn * 100)/N_normal))\n",
        "\t\tprint('True Ring predictions: {} | ({} percent)'.format(tp,(tp * 100)/N_ring))\n",
        "\t\tprint('False Normal predictions (actually Ring): {} | ({} percent)'.format(fn,(fn * 100)/N_ring))\n",
        "\t\tprint('False Ring predictions (actually Normal): {} | ({} percent)'.format(fp,(fp * 100)/N_normal))\n",
        "\treturn(tn, fp, fn, tp)\n",
        "\n",
        "def MCC(theta):\n",
        "\ttn, fp, fn, tp = theta\n",
        "\tnumerator = (tp*tn) - (fp*fn)\n",
        "\tdenomenator = np.sqrt((tp+fp)*(tp+fn)*(tn+fp)*(tn+fn))\n",
        "\tMCC = numerator / denomenator\n",
        "\treturn MCC\n",
        "\n",
        "def AUC(predictions,generator):\n",
        "\tthresholds = np.linspace(0.0,1,20)\n",
        "\ttprs = []\n",
        "\tfprs = []\n",
        "\tfor i in thresholds:\n",
        "\t\ttn, fp, fn, tp = prediction_report(predictions,generator,cutoff=i,chatter=False)\n",
        "\t\tTPR = tp / (fn+tp)\n",
        "\t\tFPR = fp / (fp+tn)\n",
        "\t\ttprs.append(TPR)\n",
        "\t\tfprs.append(FPR)\n",
        "\ttprs = np.array(tprs)[::-1]\n",
        "\tfprs = np.array(fprs)[::-1]\n",
        "\tplt.plot(fprs,tprs)\n",
        "\tplt.plot([0,1],[0,1],'k')\n",
        "\tarea = np.trapz(tprs,x=fprs)\n",
        "\tprint(\"Area under the curve: {}\".format(area))\n",
        "\treturn area\n"
      ],
      "metadata": {
        "id": "snWGtltXtvMp"
      },
      "execution_count": null,
      "outputs": []
    },
    {
      "cell_type": "code",
      "source": [
        "sim_model.evaluate(confirmation_generator)"
      ],
      "metadata": {
        "colab": {
          "base_uri": "https://localhost:8080/"
        },
        "id": "wlEWhpMsSWuw",
        "outputId": "10a9635c-07b6-4059-fb4c-d2a6cdf0de09"
      },
      "execution_count": null,
      "outputs": [
        {
          "output_type": "stream",
          "name": "stdout",
          "text": [
            "316/316 [==============================] - 32s 91ms/step - loss: 0.1133 - accuracy: 0.0000e+00\n"
          ]
        },
        {
          "output_type": "execute_result",
          "data": {
            "text/plain": [
              "[0.11328666657209396, 0.0]"
            ]
          },
          "metadata": {},
          "execution_count": 23
        }
      ]
    },
    {
      "cell_type": "code",
      "source": [
        "from sklearn.metrics import confusion_matrix\n",
        "predictions = get_predictions(confirmation_generator,sim_model)\n",
        "theta = prediction_report(predictions,confirmation_generator,cutoff=0.5,chatter=True)\n",
        "mcc = MCC(theta)\n",
        "print('MCC: ',mcc)\n",
        "area_under_curve = AUC(predictions,confirmation_generator)\n",
        "#print(area_under_curve)"
      ],
      "metadata": {
        "colab": {
          "base_uri": "https://localhost:8080/",
          "height": 429
        },
        "id": "uOfUenppvQbJ",
        "outputId": "96c7d1ee-c80c-4d0c-9d69-c8bcff974762"
      },
      "execution_count": null,
      "outputs": [
        {
          "output_type": "stream",
          "name": "stderr",
          "text": [
            "/usr/local/lib/python3.7/dist-packages/ipykernel_launcher.py:3: UserWarning: `Model.predict_generator` is deprecated and will be removed in a future version. Please use `Model.predict`, which supports generators.\n",
            "  This is separate from the ipykernel package so we can avoid doing imports until\n"
          ]
        },
        {
          "output_type": "stream",
          "name": "stdout",
          "text": [
            "True Normal predictions: 4614 | (90.5771495877503 percent)\n",
            "True Ring predictions: 4989 | (99.7999599919984 percent)\n",
            "False Normal predictions (actually Ring): 10 | (0.20004000800160032 percent)\n",
            "False Ring predictions (actually Normal): 480 | (9.422850412249705 percent)\n",
            "MCC:  0.9069150563776822\n",
            "Area under the curve: 0.9756923705117937\n"
          ]
        },
        {
          "output_type": "display_data",
          "data": {
            "image/png": "[encoded data removed]",
            "text/plain": [
              "<Figure size 432x288 with 1 Axes>"
            ]
          },
          "metadata": {
            "needs_background": "light"
          }
        }
      ]
    },
    {
      "cell_type": "code",
      "source": [
        "sim_model.save(\"RingNetSim101\")"
      ],
      "metadata": {
        "colab": {
          "base_uri": "https://localhost:8080/"
        },
        "id": "LbcWEdwmq5_T",
        "outputId": "f3e68aff-90e6-49ef-9947-12668bbbf656"
      },
      "execution_count": null,
      "outputs": [
        {
          "output_type": "stream",
          "name": "stderr",
          "text": [
            "WARNING:absl:Found untraced functions such as flatten_layer_call_and_return_conditional_losses, flatten_layer_call_fn, dense_layer_call_and_return_conditional_losses, dense_layer_call_fn, dense_1_layer_call_and_return_conditional_losses while saving (showing 5 of 15). These functions will not be directly callable after loading.\n"
          ]
        },
        {
          "output_type": "stream",
          "name": "stdout",
          "text": [
            "INFO:tensorflow:Assets written to: RingNetSim101/assets\n"
          ]
        },
        {
          "output_type": "stream",
          "name": "stderr",
          "text": [
            "INFO:tensorflow:Assets written to: RingNetSim101/assets\n",
            "/usr/local/lib/python3.7/dist-packages/keras/engine/functional.py:1410: CustomMaskWarning: Custom mask layers require a config and must override get_config. When loading, the custom mask layer must be passed to the custom_objects argument.\n",
            "  layer_config = serialize_layer_fn(layer)\n",
            "/usr/local/lib/python3.7/dist-packages/keras/saving/saved_model/layer_serialization.py:112: CustomMaskWarning: Custom mask layers require a config and must override get_config. When loading, the custom mask layer must be passed to the custom_objects argument.\n",
            "  return generic_utils.serialize_keras_object(obj)\n"
          ]
        }
      ]
    }
  ]
}